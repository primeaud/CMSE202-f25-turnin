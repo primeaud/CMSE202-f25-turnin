{
 "cells": [
  {
   "cell_type": "markdown",
   "id": "d70b1917",
   "metadata": {},
   "source": [
    "### <p style=\"text-align: right;\"> &#9989; Dylan Primeau</p>\n",
    "### <p style=\"text-align: right;\"> &#9989; primeaud</p>"
   ]
  },
  {
   "cell_type": "markdown",
   "id": "59201064",
   "metadata": {},
   "source": [
    "# CMSE 202 Midterm (Section 001 - SS25)\n",
    "\n",
    "\n",
    "# &#128721; READ EVERYTHING CAREFULLY\n",
    "\n",
    "\n",
    "The goal of this midterm is to give you the opportunity to test out some of the skills that you've developed thus far this semester. In particular, you'll practice setting up a GitHub repository, committing and pushing repository changes, downloading data with command line tools, performing some data analysis, possibly using a new Python package, and writing a python class. You should find that you have all of the skills necessary to complete this exam with even just eight weeks of CMSE 202 under your belt!\n",
    "\n",
    "You are encouraged to look through the entire exam before you get started so that you can appropriately budget your time and understand the broad goals of the exam. Once you've read through it, try doing Parts 1 and 2 first so that you have your repository set up and you download all necessary data files as they will be necessary to complete the assigned tasks. Let your instructor know right away if you have problems downloading the data!\n",
    "\n",
    "The exam is set up so that even if you get stuck on one part there are opportunities to get points on the other parts, so consider jumping ahead if you feel like you aren't making progress and then come back later if you have time.\n",
    "\n",
    "**Important note about using online resources**: This exam is **\"open internet\"**. That means that you can look up documentation, google how to accomplish certain Python tasks, reference and use your in-class assignments, pre-class assignments and homework, etc. Being able to effectively use the internet for computational modeling and data science is a very important skill, so we want to make sure you have the opportunity to exercise that skill. **However**: The use of any person-to-person communication software is absolutely not acceptable. If you are seen accessing your email, using a chat program (e.g. Slack), or any sort of collaborative cloud storage or document software (e.g. Google Documents), you will be at risk for receiving a zero on the exam.\n",
    "\n",
    "**Important Guidelines on AI Tool Usage**\n",
    "\n",
    "This exam allows the use of AI tools (such as ChatGPT, Claude, HiTA) with specific guidelines that mirror real-world professional practices. These tools should enhance your learning and problem-solving process, not replace your intellectual engagement. Here are the key requirements:\n",
    "\n",
    "1. **Appropriate Use of AI**:\n",
    "   - Use AI as a learning assistant to understand concepts, debug code, or get unstuck\n",
    "   - Use AI to improve your solution approach or verify your thinking\n",
    "   - Use AI to learn about new Python packages or functions you might need\n",
    "\n",
    "2. **Prohibited Uses**:\n",
    "   - Direct copying of AI-generated solutions without understanding\n",
    "   - Asking AI to complete entire questions without your intellectual input\n",
    "   - Using AI to modify provided starter code or test cases\n",
    "   - Using AI to circumvent learning objectives or problem requirements\n",
    "\n",
    "3. **Documentation Requirements**:\n",
    "   - You must cite any AI assistance received by adding a comment that includes:\n",
    "     * The AI tool used\n",
    "     * The specific question you asked\n",
    "     * How you modified or improved upon the AI's suggestion\n",
    "   - Example: \"# AI assistance: Used Claude to understand lmfit parameter initialization. Modified the suggested approach to include custom bounds.\"\n",
    "\n",
    "4. **Evaluation Implications**:\n",
    "   - Questions showing signs of direct AI solution copying will receive zero points\n",
    "   - Evidence of not following problem instructions, even if AI-suggested, will result in zero points\n",
    "   - Modified starter code or test cases will result in zero points for that question\n",
    "\n",
    "Remember: The goal is to demonstrate your understanding and problem-solving abilities. AI tools should support your learning, not replace your critical thinking and coding skills.\n",
    "\n",
    "**Note**: Traditional open internet resources (documentation, Stack Overflow, etc.) remain available, but person-to-person communication tools are not permitted.\"\n",
    "\n",
    "**Keep your eyes on your screen!** Unfortunately, there isn't enough space in the room for everyone to sit at their own table so please do your best to keep your eyes on your own screen. This exam is designed to give *you* the opportunity to show the instructor what you can do and you should hold yourself accountable for maintaining a high level of academic integrity. If any of the instructors observe suspicious behavior, you will, again, risk receiving a zero.\n",
    "\n",
    "The maximum number of points is: **88 Points**"
   ]
  },
  {
   "cell_type": "markdown",
   "id": "1134d11f",
   "metadata": {},
   "source": [
    "![star](https://media.giphy.com/media/xT9IgEYXCNqPZnqMuY/giphy.gif?cid=790b761114d73fop8879b63i6lpgjulam3sgmg7gib5vksnd&ep=v1_gifs_search&rid=giphy.gif&ct=g)"
   ]
  },
  {
   "cell_type": "markdown",
   "id": "1f1d868f",
   "metadata": {},
   "source": [
    "## Table of Contents\n",
    "\n",
    "Navigate through the midterm using these links:\n",
    "\n",
    "* [Part 0: Academic integrity statement (1 point)](#part-0-academic-integrity-statement-1-point)\n",
    "* [Part 1: Git and Command Line Interface (9 points)](#part-1-git-and-command-line-interface-9-points)\n",
    "* [Part 2: Working with a less familiar Python package (13 points)](#part-2-working-with-a-less-familiar-python-package-13-points)\n",
    "* [Part 3: Downloading and analyzing unfamiliar data (24 points)](#part-3-downloading-and-analyzing-unfamiliar-data-24-points)\n",
    "* [Part 4: Object-Oriented Programming (38 points)](#part-4-object-oriented-programming-38-points)\n",
    "* [Part 5. Conclusion (3 points)](#part-5-conclusion-3-points)"
   ]
  },
  {
   "cell_type": "markdown",
   "id": "b47a797c",
   "metadata": {},
   "source": [
    "---\n",
    "<a id=\"part-0-academic-integrity-statement-1-point\"></a>\n",
    "\n",
    "# Part 0: Academic integrity statement (1 point)\n",
    "\n",
    "[Back to Table of Contents](#Table-of-Contents)\n",
    "\n",
    "Read the following statement and edit the markdown text to put your name in the statement. This is your commitment to doing your own authentic work on this exam."
   ]
  },
  {
   "cell_type": "markdown",
   "id": "64f82697",
   "metadata": {},
   "source": [
    "> *I, Dylan Primeau_____, commit to __holding myself, my peers, and my roommates to the Spartan Standard. I will conduct my academic endeavors with GRIT, while spreading postivity wherever I go. I will never settle for complacency, and instead, constantly seek knowledge. I fully understand the Michigan State University policy concerning academic honesty, plagiarism, and cheating.\n",
    "\n",
    "-Dylan Primeau------------"
   ]
  },
  {
   "cell_type": "markdown",
   "id": "aade4f33",
   "metadata": {},
   "source": [
    "---\n",
    "<a id=\"part-1-git-and-command-line-interface-9-points\"></a>\n",
    "\n",
    "# Part 1: Git and Command Line Interface (9 points)\n",
    "\n",
    "[Back to Table of Contents](#Table-of-Contents)\n",
    "\n",
    "## Setup Instructions\n",
    "\n",
    "Before starting this section:\n",
    "1. Open a new terminal/powershell/command prompt window\n",
    "2. (Optional) Arrange your screen with this notebook on the left side and the terminal on the right side. This split-screen setup will help you work efficiently between the notebook and terminal\n",
    "\n",
    "**Important**: Even if your terminal opens in the correct directory, you must write out the full commands as if starting from your home directory."
   ]
  },
  {
   "cell_type": "markdown",
   "id": "4757287d",
   "metadata": {},
   "source": [
    "&#9989; **Question 1.1 (2 points)**: Move into your `cmse202-s25-turnin` folder and verify your location. This folder should be the local one you created for your homework on Github. If you do not have this folder, raise your hand and we will help you set it up.\n",
    "\n",
    "Write the commands you used below (minimum 2 lines):"
   ]
  },
  {
   "cell_type": "markdown",
   "id": "efa27a7b",
   "metadata": {
    "question_id": "P1Q1",
    "tags": [
     "student_answer"
    ]
   },
   "source": [
    "**<font size=+3>&#9998;</font> Do This**: \n",
    "#mkdir -p CMSE202-f25-turnin  \n",
    "#mv CMSE202-Midterm-Section001-DPrimeau.ipynb CMSE202-f25-turnin/ \n"
   ]
  },
  {
   "cell_type": "markdown",
   "id": "2f2207da",
   "metadata": {},
   "source": [
    "&#9989; **Question 1.2 (2 points)**: Create the following directory structure in your repository:\n",
    "```\n",
    "cmse202-s25-turnin/\n",
    "    └── exams/\n",
    "        ├── midterm/\n",
    "        └── final/\n",
    "```\n",
    "Write the commands you used to create these folders:"
   ]
  },
  {
   "cell_type": "markdown",
   "id": "17cec07d",
   "metadata": {
    "question_id": "P1Q2",
    "tags": [
     "student_answer"
    ]
   },
   "source": [
    "**<font size=+3>&#9998;</font> \n",
    "\n",
    "mkdir -p cmse202-s25-turnin/exams/midterm  \n",
    "\n",
    "mkdir -p cmse202-s25-turnin/exams/final "
   ]
  },
  {
   "cell_type": "markdown",
   "id": "9809047d",
   "metadata": {},
   "source": [
    "&#9989; **Question 1.3 (1 point)**: Write the commands to move this notebook into the `midterm` folder:"
   ]
  },
  {
   "cell_type": "markdown",
   "id": "b7c93a91",
   "metadata": {
    "question_id": "P1Q3",
    "tags": [
     "student_answer"
    ]
   },
   "source": [
    "**<font size=+3>&#9998;</font> \n",
    "\n",
    "mv CMSE202-Midterm-Section001-DPrimeau.ipynb cmse202-s25-turnin/exams/midterm/\n"
   ]
  },
  {
   "cell_type": "markdown",
   "id": "359a1ad0",
   "metadata": {},
   "source": [
    "&#9989; **Question 1.4 (2 points)**: Check your repository status.\n",
    "\n",
    "Write the command you used:"
   ]
  },
  {
   "cell_type": "markdown",
   "id": "32452880",
   "metadata": {
    "question_id": "P1Q4",
    "tags": [
     "student_answer"
    ]
   },
   "source": [
    "**<font size=+3>&#9998;</font> \n",
    "\n",
    "\n",
    "dylanprimeau@Dylans-MacBook-Air-7 CMSE202-f25-turnin % git status"
   ]
  },
  {
   "cell_type": "markdown",
   "id": "a407b77c",
   "metadata": {},
   "source": [
    "Paste the output of the command:"
   ]
  },
  {
   "cell_type": "markdown",
   "id": "fefc1655",
   "metadata": {
    "question_id": "P1Q4",
    "tags": [
     "student_answer"
    ]
   },
   "source": [
    "**<font size=+3>&#9998;</font> \n",
    "\n",
    "\n",
    "On branch main\n",
    "Your branch is up to date with 'origin/main'.\n",
    "\n",
    "Changes not staged for commit:\n",
    "  (use \"git add <file>...\" to update what will be committed)\n",
    "  (use \"git restore <file>...\" to discard changes in working directory)\n",
    "        modified:   .DS_Store\n",
    "\n",
    "Untracked files:\n",
    "  (use \"git add <file>...\" to include in what will be committed)\n",
    "        cmse202-s25-turnin/\n",
    "\n",
    "no changes added to commit (use \"git add\" and/or \"git commit -a\")"
   ]
  },
  {
   "cell_type": "markdown",
   "id": "29792cc2",
   "metadata": {},
   "source": [
    "&#9989; **Question 1.5 (1 point)**: Do you have any untracked files? Confirm you don't have any untracked files. The only file we want to track is CMSE202-Midterm-Section001-STUDENT. Write down the commands used to either confirm you don't have any untracked files, or the commands you used to track your file."
   ]
  },
  {
   "cell_type": "markdown",
   "id": "94c946d5",
   "metadata": {
    "question_id": "P1Q5",
    "tags": [
     "student_answer"
    ]
   },
   "source": [
    "**<font size=+3>&#9998;</font>\n",
    "git ls-files --others --exclude-standard\n",
    "\n"
   ]
  },
  {
   "cell_type": "markdown",
   "id": "6899637a",
   "metadata": {},
   "source": [
    "&#9989; **Question 1.6 (1 point)**: Commit your changes with the message \"Committing Part 1 of midterm\" and push to GitHub.\n",
    "\n",
    "Write the commands you used:"
   ]
  },
  {
   "cell_type": "markdown",
   "id": "106bd161",
   "metadata": {
    "question_id": "P1Q6",
    "tags": [
     "student_answer"
    ]
   },
   "source": [
    "**<font size=+3>&#9998;</font> \n",
    "\n",
    "\n",
    "git add cmse202-s25-turnin/exams/midterm/CMSE202-Midterm-Section001-DPrimeau2.ipynb\n",
    "\n",
    "git commit -m \"Added CMSE202-Midterm-Section001-DPrimeau2\"\n",
    "\n",
    "\n",
    "git push origin main\n",
    "\n"
   ]
  },
  {
   "cell_type": "markdown",
   "id": "3021170c",
   "metadata": {},
   "source": [
    "**Important**: Double check you've added your Professor and your TA as collaborators to your \"turnin\" respository (you should have done this in the previous homework assignment)"
   ]
  },
  {
   "cell_type": "markdown",
   "id": "990abf6b",
   "metadata": {},
   "source": [
    "**Also important**: Make sure that the version of this notebook that you are working on is the same one that you just added to your repository! If you are working on a different copy of the noteobok, none of your changes will be tracked!"
   ]
  },
  {
   "cell_type": "markdown",
   "id": "b41bfa88",
   "metadata": {},
   "source": [
    "--- \n",
    "<a id=\"part-2-working-with-a-less-familiar-python-package-13-points\"></a>\n",
    "\n",
    "# Part 2: Working with a less familiar Python package (13 points)\n",
    "\n",
    "[Back to Table of Contents](#Table-of-Contents)\n",
    "\n",
    "In this part of the exam you will need to review a bit of documentation from either a Python package that you've explored a bit this semester or a new one.\n",
    "\n",
    "Let's install and use the plotly package"
   ]
  },
  {
   "cell_type": "markdown",
   "id": "5ad13a1b",
   "metadata": {},
   "source": [
    "&#9989; **Question 2.1 (2 points)**: Install the package `plotly` using `pip`. Here is the link to the [documentation]( https://plotly.com/python/)\n"
   ]
  },
  {
   "cell_type": "code",
   "execution_count": 3,
   "id": "7cdc59fe",
   "metadata": {
    "question_id": "P1Q5",
    "tags": [
     "student_answer"
    ]
   },
   "outputs": [
    {
     "name": "stdout",
     "output_type": "stream",
     "text": [
      "Requirement already satisfied: plotly in /opt/anaconda3/lib/python3.12/site-packages (5.22.0)\n",
      "Requirement already satisfied: tenacity>=6.2.0 in /opt/anaconda3/lib/python3.12/site-packages (from plotly) (8.2.2)\n",
      "Requirement already satisfied: packaging in /opt/anaconda3/lib/python3.12/site-packages (from plotly) (23.2)\n",
      "\n",
      "\u001b[1m[\u001b[0m\u001b[34;49mnotice\u001b[0m\u001b[1;39;49m]\u001b[0m\u001b[39;49m A new release of pip is available: \u001b[0m\u001b[31;49m25.0\u001b[0m\u001b[39;49m -> \u001b[0m\u001b[32;49m25.0.1\u001b[0m\n",
      "\u001b[1m[\u001b[0m\u001b[34;49mnotice\u001b[0m\u001b[1;39;49m]\u001b[0m\u001b[39;49m To update, run: \u001b[0m\u001b[32;49mpip install --upgrade pip\u001b[0m\n"
     ]
    }
   ],
   "source": [
    "# Put your code/commands here.\n",
    "\n",
    "!pip install plotly\n",
    "\n"
   ]
  },
  {
   "cell_type": "markdown",
   "id": "53fd0b11",
   "metadata": {},
   "source": [
    "&#9989; **Question 2.2 (2 points)**: Load in any dataset of your choice from [here]( https://plotly.com/python-api-reference/generated/plotly.data.html ). Assign this data as the variable \"my_plotly_data\" and then display this data."
   ]
  },
  {
   "cell_type": "code",
   "execution_count": 13,
   "id": "32d1b3d8",
   "metadata": {
    "question_id": "P1Q5",
    "tags": [
     "student_answer"
    ]
   },
   "outputs": [
    {
     "data": {
      "text/html": [
       "<div>\n",
       "<style scoped>\n",
       "    .dataframe tbody tr th:only-of-type {\n",
       "        vertical-align: middle;\n",
       "    }\n",
       "\n",
       "    .dataframe tbody tr th {\n",
       "        vertical-align: top;\n",
       "    }\n",
       "\n",
       "    .dataframe thead th {\n",
       "        text-align: right;\n",
       "    }\n",
       "</style>\n",
       "<table border=\"1\" class=\"dataframe\">\n",
       "  <thead>\n",
       "    <tr style=\"text-align: right;\">\n",
       "      <th></th>\n",
       "      <th>sepal_length</th>\n",
       "      <th>sepal_width</th>\n",
       "      <th>petal_length</th>\n",
       "      <th>petal_width</th>\n",
       "      <th>species</th>\n",
       "      <th>species_id</th>\n",
       "    </tr>\n",
       "  </thead>\n",
       "  <tbody>\n",
       "    <tr>\n",
       "      <th>0</th>\n",
       "      <td>5.1</td>\n",
       "      <td>3.5</td>\n",
       "      <td>1.4</td>\n",
       "      <td>0.2</td>\n",
       "      <td>setosa</td>\n",
       "      <td>1</td>\n",
       "    </tr>\n",
       "    <tr>\n",
       "      <th>1</th>\n",
       "      <td>4.9</td>\n",
       "      <td>3.0</td>\n",
       "      <td>1.4</td>\n",
       "      <td>0.2</td>\n",
       "      <td>setosa</td>\n",
       "      <td>1</td>\n",
       "    </tr>\n",
       "    <tr>\n",
       "      <th>2</th>\n",
       "      <td>4.7</td>\n",
       "      <td>3.2</td>\n",
       "      <td>1.3</td>\n",
       "      <td>0.2</td>\n",
       "      <td>setosa</td>\n",
       "      <td>1</td>\n",
       "    </tr>\n",
       "    <tr>\n",
       "      <th>3</th>\n",
       "      <td>4.6</td>\n",
       "      <td>3.1</td>\n",
       "      <td>1.5</td>\n",
       "      <td>0.2</td>\n",
       "      <td>setosa</td>\n",
       "      <td>1</td>\n",
       "    </tr>\n",
       "    <tr>\n",
       "      <th>4</th>\n",
       "      <td>5.0</td>\n",
       "      <td>3.6</td>\n",
       "      <td>1.4</td>\n",
       "      <td>0.2</td>\n",
       "      <td>setosa</td>\n",
       "      <td>1</td>\n",
       "    </tr>\n",
       "    <tr>\n",
       "      <th>...</th>\n",
       "      <td>...</td>\n",
       "      <td>...</td>\n",
       "      <td>...</td>\n",
       "      <td>...</td>\n",
       "      <td>...</td>\n",
       "      <td>...</td>\n",
       "    </tr>\n",
       "    <tr>\n",
       "      <th>145</th>\n",
       "      <td>6.7</td>\n",
       "      <td>3.0</td>\n",
       "      <td>5.2</td>\n",
       "      <td>2.3</td>\n",
       "      <td>virginica</td>\n",
       "      <td>3</td>\n",
       "    </tr>\n",
       "    <tr>\n",
       "      <th>146</th>\n",
       "      <td>6.3</td>\n",
       "      <td>2.5</td>\n",
       "      <td>5.0</td>\n",
       "      <td>1.9</td>\n",
       "      <td>virginica</td>\n",
       "      <td>3</td>\n",
       "    </tr>\n",
       "    <tr>\n",
       "      <th>147</th>\n",
       "      <td>6.5</td>\n",
       "      <td>3.0</td>\n",
       "      <td>5.2</td>\n",
       "      <td>2.0</td>\n",
       "      <td>virginica</td>\n",
       "      <td>3</td>\n",
       "    </tr>\n",
       "    <tr>\n",
       "      <th>148</th>\n",
       "      <td>6.2</td>\n",
       "      <td>3.4</td>\n",
       "      <td>5.4</td>\n",
       "      <td>2.3</td>\n",
       "      <td>virginica</td>\n",
       "      <td>3</td>\n",
       "    </tr>\n",
       "    <tr>\n",
       "      <th>149</th>\n",
       "      <td>5.9</td>\n",
       "      <td>3.0</td>\n",
       "      <td>5.1</td>\n",
       "      <td>1.8</td>\n",
       "      <td>virginica</td>\n",
       "      <td>3</td>\n",
       "    </tr>\n",
       "  </tbody>\n",
       "</table>\n",
       "<p>150 rows × 6 columns</p>\n",
       "</div>"
      ],
      "text/plain": [
       "     sepal_length  sepal_width  petal_length  petal_width    species  \\\n",
       "0             5.1          3.5           1.4          0.2     setosa   \n",
       "1             4.9          3.0           1.4          0.2     setosa   \n",
       "2             4.7          3.2           1.3          0.2     setosa   \n",
       "3             4.6          3.1           1.5          0.2     setosa   \n",
       "4             5.0          3.6           1.4          0.2     setosa   \n",
       "..            ...          ...           ...          ...        ...   \n",
       "145           6.7          3.0           5.2          2.3  virginica   \n",
       "146           6.3          2.5           5.0          1.9  virginica   \n",
       "147           6.5          3.0           5.2          2.0  virginica   \n",
       "148           6.2          3.4           5.4          2.3  virginica   \n",
       "149           5.9          3.0           5.1          1.8  virginica   \n",
       "\n",
       "     species_id  \n",
       "0             1  \n",
       "1             1  \n",
       "2             1  \n",
       "3             1  \n",
       "4             1  \n",
       "..          ...  \n",
       "145           3  \n",
       "146           3  \n",
       "147           3  \n",
       "148           3  \n",
       "149           3  \n",
       "\n",
       "[150 rows x 6 columns]"
      ]
     },
     "execution_count": 13,
     "metadata": {},
     "output_type": "execute_result"
    }
   ],
   "source": [
    "import plotly.express as px #worked with this for visualizations before\n",
    "import pandas as pd\n",
    "\n",
    "my_plotly_data = px.data.iris()\n",
    "\n",
    "\n",
    "my_plotly_data\n"
   ]
  },
  {
   "cell_type": "markdown",
   "id": "76e7442e",
   "metadata": {},
   "source": [
    "#### &#9989; **Question 2.3 (6 points)**: Using plotly, create a figure that visualizes your data (or at least some parts of your data). Make sure there are appropriate labels like title, x-axis, and y-axis, etc. "
   ]
  },
  {
   "cell_type": "code",
   "execution_count": 33,
   "id": "cebca85c",
   "metadata": {
    "question_id": "P1Q5",
    "tags": [
     "student_answer"
    ]
   },
   "outputs": [
    {
     "data": {
      "application/vnd.plotly.v1+json": {
       "config": {
        "plotlyServerURL": "https://plot.ly"
       },
       "data": [
        {
         "hovertemplate": "species=setosa<br>Sepal Lengt=%{x}<br>Sepal Width=%{y}<extra></extra>",
         "legendgroup": "setosa",
         "marker": {
          "color": "#636efa",
          "symbol": "circle"
         },
         "mode": "markers",
         "name": "setosa",
         "orientation": "v",
         "showlegend": true,
         "type": "scatter",
         "x": [
          5.1,
          4.9,
          4.7,
          4.6,
          5,
          5.4,
          4.6,
          5,
          4.4,
          4.9,
          5.4,
          4.8,
          4.8,
          4.3,
          5.8,
          5.7,
          5.4,
          5.1,
          5.7,
          5.1,
          5.4,
          5.1,
          4.6,
          5.1,
          4.8,
          5,
          5,
          5.2,
          5.2,
          4.7,
          4.8,
          5.4,
          5.2,
          5.5,
          4.9,
          5,
          5.5,
          4.9,
          4.4,
          5.1,
          5,
          4.5,
          4.4,
          5,
          5.1,
          4.8,
          5.1,
          4.6,
          5.3,
          5
         ],
         "xaxis": "x",
         "y": [
          3.5,
          3,
          3.2,
          3.1,
          3.6,
          3.9,
          3.4,
          3.4,
          2.9,
          3.1,
          3.7,
          3.4,
          3,
          3,
          4,
          4.4,
          3.9,
          3.5,
          3.8,
          3.8,
          3.4,
          3.7,
          3.6,
          3.3,
          3.4,
          3,
          3.4,
          3.5,
          3.4,
          3.2,
          3.1,
          3.4,
          4.1,
          4.2,
          3.1,
          3.2,
          3.5,
          3.1,
          3,
          3.4,
          3.5,
          2.3,
          3.2,
          3.5,
          3.8,
          3,
          3.8,
          3.2,
          3.7,
          3.3
         ],
         "yaxis": "y"
        },
        {
         "hovertemplate": "species=versicolor<br>Sepal Lengt=%{x}<br>Sepal Width=%{y}<extra></extra>",
         "legendgroup": "versicolor",
         "marker": {
          "color": "#EF553B",
          "symbol": "circle"
         },
         "mode": "markers",
         "name": "versicolor",
         "orientation": "v",
         "showlegend": true,
         "type": "scatter",
         "x": [
          7,
          6.4,
          6.9,
          5.5,
          6.5,
          5.7,
          6.3,
          4.9,
          6.6,
          5.2,
          5,
          5.9,
          6,
          6.1,
          5.6,
          6.7,
          5.6,
          5.8,
          6.2,
          5.6,
          5.9,
          6.1,
          6.3,
          6.1,
          6.4,
          6.6,
          6.8,
          6.7,
          6,
          5.7,
          5.5,
          5.5,
          5.8,
          6,
          5.4,
          6,
          6.7,
          6.3,
          5.6,
          5.5,
          5.5,
          6.1,
          5.8,
          5,
          5.6,
          5.7,
          5.7,
          6.2,
          5.1,
          5.7
         ],
         "xaxis": "x",
         "y": [
          3.2,
          3.2,
          3.1,
          2.3,
          2.8,
          2.8,
          3.3,
          2.4,
          2.9,
          2.7,
          2,
          3,
          2.2,
          2.9,
          2.9,
          3.1,
          3,
          2.7,
          2.2,
          2.5,
          3.2,
          2.8,
          2.5,
          2.8,
          2.9,
          3,
          2.8,
          3,
          2.9,
          2.6,
          2.4,
          2.4,
          2.7,
          2.7,
          3,
          3.4,
          3.1,
          2.3,
          3,
          2.5,
          2.6,
          3,
          2.6,
          2.3,
          2.7,
          3,
          2.9,
          2.9,
          2.5,
          2.8
         ],
         "yaxis": "y"
        },
        {
         "hovertemplate": "species=virginica<br>Sepal Lengt=%{x}<br>Sepal Width=%{y}<extra></extra>",
         "legendgroup": "virginica",
         "marker": {
          "color": "#00cc96",
          "symbol": "circle"
         },
         "mode": "markers",
         "name": "virginica",
         "orientation": "v",
         "showlegend": true,
         "type": "scatter",
         "x": [
          6.3,
          5.8,
          7.1,
          6.3,
          6.5,
          7.6,
          4.9,
          7.3,
          6.7,
          7.2,
          6.5,
          6.4,
          6.8,
          5.7,
          5.8,
          6.4,
          6.5,
          7.7,
          7.7,
          6,
          6.9,
          5.6,
          7.7,
          6.3,
          6.7,
          7.2,
          6.2,
          6.1,
          6.4,
          7.2,
          7.4,
          7.9,
          6.4,
          6.3,
          6.1,
          7.7,
          6.3,
          6.4,
          6,
          6.9,
          6.7,
          6.9,
          5.8,
          6.8,
          6.7,
          6.7,
          6.3,
          6.5,
          6.2,
          5.9
         ],
         "xaxis": "x",
         "y": [
          3.3,
          2.7,
          3,
          2.9,
          3,
          3,
          2.5,
          2.9,
          2.5,
          3.6,
          3.2,
          2.7,
          3,
          2.5,
          2.8,
          3.2,
          3,
          3.8,
          2.6,
          2.2,
          3.2,
          2.8,
          2.8,
          2.7,
          3.3,
          3.2,
          2.8,
          3,
          2.8,
          3,
          2.8,
          3.8,
          2.8,
          2.8,
          2.6,
          3,
          3.4,
          3.1,
          3,
          3.1,
          3.1,
          3.1,
          2.7,
          3.2,
          3.3,
          3,
          2.5,
          3,
          3.4,
          3
         ],
         "yaxis": "y"
        }
       ],
       "layout": {
        "autosize": true,
        "legend": {
         "title": {
          "text": "species"
         },
         "tracegroupgap": 0
        },
        "template": {
         "data": {
          "bar": [
           {
            "error_x": {
             "color": "#2a3f5f"
            },
            "error_y": {
             "color": "#2a3f5f"
            },
            "marker": {
             "line": {
              "color": "#E5ECF6",
              "width": 0.5
             },
             "pattern": {
              "fillmode": "overlay",
              "size": 10,
              "solidity": 0.2
             }
            },
            "type": "bar"
           }
          ],
          "barpolar": [
           {
            "marker": {
             "line": {
              "color": "#E5ECF6",
              "width": 0.5
             },
             "pattern": {
              "fillmode": "overlay",
              "size": 10,
              "solidity": 0.2
             }
            },
            "type": "barpolar"
           }
          ],
          "carpet": [
           {
            "aaxis": {
             "endlinecolor": "#2a3f5f",
             "gridcolor": "white",
             "linecolor": "white",
             "minorgridcolor": "white",
             "startlinecolor": "#2a3f5f"
            },
            "baxis": {
             "endlinecolor": "#2a3f5f",
             "gridcolor": "white",
             "linecolor": "white",
             "minorgridcolor": "white",
             "startlinecolor": "#2a3f5f"
            },
            "type": "carpet"
           }
          ],
          "choropleth": [
           {
            "colorbar": {
             "outlinewidth": 0,
             "ticks": ""
            },
            "type": "choropleth"
           }
          ],
          "contour": [
           {
            "colorbar": {
             "outlinewidth": 0,
             "ticks": ""
            },
            "colorscale": [
             [
              0,
              "#0d0887"
             ],
             [
              0.1111111111111111,
              "#46039f"
             ],
             [
              0.2222222222222222,
              "#7201a8"
             ],
             [
              0.3333333333333333,
              "#9c179e"
             ],
             [
              0.4444444444444444,
              "#bd3786"
             ],
             [
              0.5555555555555556,
              "#d8576b"
             ],
             [
              0.6666666666666666,
              "#ed7953"
             ],
             [
              0.7777777777777778,
              "#fb9f3a"
             ],
             [
              0.8888888888888888,
              "#fdca26"
             ],
             [
              1,
              "#f0f921"
             ]
            ],
            "type": "contour"
           }
          ],
          "contourcarpet": [
           {
            "colorbar": {
             "outlinewidth": 0,
             "ticks": ""
            },
            "type": "contourcarpet"
           }
          ],
          "heatmap": [
           {
            "colorbar": {
             "outlinewidth": 0,
             "ticks": ""
            },
            "colorscale": [
             [
              0,
              "#0d0887"
             ],
             [
              0.1111111111111111,
              "#46039f"
             ],
             [
              0.2222222222222222,
              "#7201a8"
             ],
             [
              0.3333333333333333,
              "#9c179e"
             ],
             [
              0.4444444444444444,
              "#bd3786"
             ],
             [
              0.5555555555555556,
              "#d8576b"
             ],
             [
              0.6666666666666666,
              "#ed7953"
             ],
             [
              0.7777777777777778,
              "#fb9f3a"
             ],
             [
              0.8888888888888888,
              "#fdca26"
             ],
             [
              1,
              "#f0f921"
             ]
            ],
            "type": "heatmap"
           }
          ],
          "heatmapgl": [
           {
            "colorbar": {
             "outlinewidth": 0,
             "ticks": ""
            },
            "colorscale": [
             [
              0,
              "#0d0887"
             ],
             [
              0.1111111111111111,
              "#46039f"
             ],
             [
              0.2222222222222222,
              "#7201a8"
             ],
             [
              0.3333333333333333,
              "#9c179e"
             ],
             [
              0.4444444444444444,
              "#bd3786"
             ],
             [
              0.5555555555555556,
              "#d8576b"
             ],
             [
              0.6666666666666666,
              "#ed7953"
             ],
             [
              0.7777777777777778,
              "#fb9f3a"
             ],
             [
              0.8888888888888888,
              "#fdca26"
             ],
             [
              1,
              "#f0f921"
             ]
            ],
            "type": "heatmapgl"
           }
          ],
          "histogram": [
           {
            "marker": {
             "pattern": {
              "fillmode": "overlay",
              "size": 10,
              "solidity": 0.2
             }
            },
            "type": "histogram"
           }
          ],
          "histogram2d": [
           {
            "colorbar": {
             "outlinewidth": 0,
             "ticks": ""
            },
            "colorscale": [
             [
              0,
              "#0d0887"
             ],
             [
              0.1111111111111111,
              "#46039f"
             ],
             [
              0.2222222222222222,
              "#7201a8"
             ],
             [
              0.3333333333333333,
              "#9c179e"
             ],
             [
              0.4444444444444444,
              "#bd3786"
             ],
             [
              0.5555555555555556,
              "#d8576b"
             ],
             [
              0.6666666666666666,
              "#ed7953"
             ],
             [
              0.7777777777777778,
              "#fb9f3a"
             ],
             [
              0.8888888888888888,
              "#fdca26"
             ],
             [
              1,
              "#f0f921"
             ]
            ],
            "type": "histogram2d"
           }
          ],
          "histogram2dcontour": [
           {
            "colorbar": {
             "outlinewidth": 0,
             "ticks": ""
            },
            "colorscale": [
             [
              0,
              "#0d0887"
             ],
             [
              0.1111111111111111,
              "#46039f"
             ],
             [
              0.2222222222222222,
              "#7201a8"
             ],
             [
              0.3333333333333333,
              "#9c179e"
             ],
             [
              0.4444444444444444,
              "#bd3786"
             ],
             [
              0.5555555555555556,
              "#d8576b"
             ],
             [
              0.6666666666666666,
              "#ed7953"
             ],
             [
              0.7777777777777778,
              "#fb9f3a"
             ],
             [
              0.8888888888888888,
              "#fdca26"
             ],
             [
              1,
              "#f0f921"
             ]
            ],
            "type": "histogram2dcontour"
           }
          ],
          "mesh3d": [
           {
            "colorbar": {
             "outlinewidth": 0,
             "ticks": ""
            },
            "type": "mesh3d"
           }
          ],
          "parcoords": [
           {
            "line": {
             "colorbar": {
              "outlinewidth": 0,
              "ticks": ""
             }
            },
            "type": "parcoords"
           }
          ],
          "pie": [
           {
            "automargin": true,
            "type": "pie"
           }
          ],
          "scatter": [
           {
            "fillpattern": {
             "fillmode": "overlay",
             "size": 10,
             "solidity": 0.2
            },
            "type": "scatter"
           }
          ],
          "scatter3d": [
           {
            "line": {
             "colorbar": {
              "outlinewidth": 0,
              "ticks": ""
             }
            },
            "marker": {
             "colorbar": {
              "outlinewidth": 0,
              "ticks": ""
             }
            },
            "type": "scatter3d"
           }
          ],
          "scattercarpet": [
           {
            "marker": {
             "colorbar": {
              "outlinewidth": 0,
              "ticks": ""
             }
            },
            "type": "scattercarpet"
           }
          ],
          "scattergeo": [
           {
            "marker": {
             "colorbar": {
              "outlinewidth": 0,
              "ticks": ""
             }
            },
            "type": "scattergeo"
           }
          ],
          "scattergl": [
           {
            "marker": {
             "colorbar": {
              "outlinewidth": 0,
              "ticks": ""
             }
            },
            "type": "scattergl"
           }
          ],
          "scattermapbox": [
           {
            "marker": {
             "colorbar": {
              "outlinewidth": 0,
              "ticks": ""
             }
            },
            "type": "scattermapbox"
           }
          ],
          "scatterpolar": [
           {
            "marker": {
             "colorbar": {
              "outlinewidth": 0,
              "ticks": ""
             }
            },
            "type": "scatterpolar"
           }
          ],
          "scatterpolargl": [
           {
            "marker": {
             "colorbar": {
              "outlinewidth": 0,
              "ticks": ""
             }
            },
            "type": "scatterpolargl"
           }
          ],
          "scatterternary": [
           {
            "marker": {
             "colorbar": {
              "outlinewidth": 0,
              "ticks": ""
             }
            },
            "type": "scatterternary"
           }
          ],
          "surface": [
           {
            "colorbar": {
             "outlinewidth": 0,
             "ticks": ""
            },
            "colorscale": [
             [
              0,
              "#0d0887"
             ],
             [
              0.1111111111111111,
              "#46039f"
             ],
             [
              0.2222222222222222,
              "#7201a8"
             ],
             [
              0.3333333333333333,
              "#9c179e"
             ],
             [
              0.4444444444444444,
              "#bd3786"
             ],
             [
              0.5555555555555556,
              "#d8576b"
             ],
             [
              0.6666666666666666,
              "#ed7953"
             ],
             [
              0.7777777777777778,
              "#fb9f3a"
             ],
             [
              0.8888888888888888,
              "#fdca26"
             ],
             [
              1,
              "#f0f921"
             ]
            ],
            "type": "surface"
           }
          ],
          "table": [
           {
            "cells": {
             "fill": {
              "color": "#EBF0F8"
             },
             "line": {
              "color": "white"
             }
            },
            "header": {
             "fill": {
              "color": "#C8D4E3"
             },
             "line": {
              "color": "white"
             }
            },
            "type": "table"
           }
          ]
         },
         "layout": {
          "annotationdefaults": {
           "arrowcolor": "#2a3f5f",
           "arrowhead": 0,
           "arrowwidth": 1
          },
          "autotypenumbers": "strict",
          "coloraxis": {
           "colorbar": {
            "outlinewidth": 0,
            "ticks": ""
           }
          },
          "colorscale": {
           "diverging": [
            [
             0,
             "#8e0152"
            ],
            [
             0.1,
             "#c51b7d"
            ],
            [
             0.2,
             "#de77ae"
            ],
            [
             0.3,
             "#f1b6da"
            ],
            [
             0.4,
             "#fde0ef"
            ],
            [
             0.5,
             "#f7f7f7"
            ],
            [
             0.6,
             "#e6f5d0"
            ],
            [
             0.7,
             "#b8e186"
            ],
            [
             0.8,
             "#7fbc41"
            ],
            [
             0.9,
             "#4d9221"
            ],
            [
             1,
             "#276419"
            ]
           ],
           "sequential": [
            [
             0,
             "#0d0887"
            ],
            [
             0.1111111111111111,
             "#46039f"
            ],
            [
             0.2222222222222222,
             "#7201a8"
            ],
            [
             0.3333333333333333,
             "#9c179e"
            ],
            [
             0.4444444444444444,
             "#bd3786"
            ],
            [
             0.5555555555555556,
             "#d8576b"
            ],
            [
             0.6666666666666666,
             "#ed7953"
            ],
            [
             0.7777777777777778,
             "#fb9f3a"
            ],
            [
             0.8888888888888888,
             "#fdca26"
            ],
            [
             1,
             "#f0f921"
            ]
           ],
           "sequentialminus": [
            [
             0,
             "#0d0887"
            ],
            [
             0.1111111111111111,
             "#46039f"
            ],
            [
             0.2222222222222222,
             "#7201a8"
            ],
            [
             0.3333333333333333,
             "#9c179e"
            ],
            [
             0.4444444444444444,
             "#bd3786"
            ],
            [
             0.5555555555555556,
             "#d8576b"
            ],
            [
             0.6666666666666666,
             "#ed7953"
            ],
            [
             0.7777777777777778,
             "#fb9f3a"
            ],
            [
             0.8888888888888888,
             "#fdca26"
            ],
            [
             1,
             "#f0f921"
            ]
           ]
          },
          "colorway": [
           "#636efa",
           "#EF553B",
           "#00cc96",
           "#ab63fa",
           "#FFA15A",
           "#19d3f3",
           "#FF6692",
           "#B6E880",
           "#FF97FF",
           "#FECB52"
          ],
          "font": {
           "color": "#2a3f5f"
          },
          "geo": {
           "bgcolor": "white",
           "lakecolor": "white",
           "landcolor": "#E5ECF6",
           "showlakes": true,
           "showland": true,
           "subunitcolor": "white"
          },
          "hoverlabel": {
           "align": "left"
          },
          "hovermode": "closest",
          "mapbox": {
           "style": "light"
          },
          "paper_bgcolor": "white",
          "plot_bgcolor": "#E5ECF6",
          "polar": {
           "angularaxis": {
            "gridcolor": "white",
            "linecolor": "white",
            "ticks": ""
           },
           "bgcolor": "#E5ECF6",
           "radialaxis": {
            "gridcolor": "white",
            "linecolor": "white",
            "ticks": ""
           }
          },
          "scene": {
           "xaxis": {
            "backgroundcolor": "#E5ECF6",
            "gridcolor": "white",
            "gridwidth": 2,
            "linecolor": "white",
            "showbackground": true,
            "ticks": "",
            "zerolinecolor": "white"
           },
           "yaxis": {
            "backgroundcolor": "#E5ECF6",
            "gridcolor": "white",
            "gridwidth": 2,
            "linecolor": "white",
            "showbackground": true,
            "ticks": "",
            "zerolinecolor": "white"
           },
           "zaxis": {
            "backgroundcolor": "#E5ECF6",
            "gridcolor": "white",
            "gridwidth": 2,
            "linecolor": "white",
            "showbackground": true,
            "ticks": "",
            "zerolinecolor": "white"
           }
          },
          "shapedefaults": {
           "line": {
            "color": "#2a3f5f"
           }
          },
          "ternary": {
           "aaxis": {
            "gridcolor": "white",
            "linecolor": "white",
            "ticks": ""
           },
           "baxis": {
            "gridcolor": "white",
            "linecolor": "white",
            "ticks": ""
           },
           "bgcolor": "#E5ECF6",
           "caxis": {
            "gridcolor": "white",
            "linecolor": "white",
            "ticks": ""
           }
          },
          "title": {
           "x": 0.05
          },
          "xaxis": {
           "automargin": true,
           "gridcolor": "white",
           "linecolor": "white",
           "ticks": "",
           "title": {
            "standoff": 15
           },
           "zerolinecolor": "white",
           "zerolinewidth": 2
          },
          "yaxis": {
           "automargin": true,
           "gridcolor": "white",
           "linecolor": "white",
           "ticks": "",
           "title": {
            "standoff": 15
           },
           "zerolinecolor": "white",
           "zerolinewidth": 2
          }
         }
        },
        "title": {
         "text": "Sepal Length vs. Sepal Width in Iris Dataset"
        },
        "xaxis": {
         "anchor": "y",
         "autorange": true,
         "domain": [
          0,
          1
         ],
         "range": [
          4.081391886862672,
          8.118608113137329
         ],
         "title": {
          "text": "Sepal Lengt"
         },
         "type": "linear"
        },
        "yaxis": {
         "anchor": "x",
         "autorange": true,
         "domain": [
          0,
          1
         ],
         "range": [
          1.8019417475728154,
          4.598058252427185
         ],
         "title": {
          "text": "Sepal Width"
         },
         "type": "linear"
        }
       }
      },
      "image/png": "[encoded data removed]",
      "text/html": [
       "<div>                            <div id=\"d8035013-eb53-45d9-aba6-322ea8acd6ad\" class=\"plotly-graph-div\" style=\"height:525px; width:100%;\"></div>            <script type=\"text/javascript\">                require([\"plotly\"], function(Plotly) {                    window.PLOTLYENV=window.PLOTLYENV || {};                                    if (document.getElementById(\"d8035013-eb53-45d9-aba6-322ea8acd6ad\")) {                    Plotly.newPlot(                        \"d8035013-eb53-45d9-aba6-322ea8acd6ad\",                        [{\"hovertemplate\":\"species=setosa\\u003cbr\\u003eSepal Lengt=%{x}\\u003cbr\\u003eSepal Width=%{y}\\u003cextra\\u003e\\u003c\\u002fextra\\u003e\",\"legendgroup\":\"setosa\",\"marker\":{\"color\":\"#636efa\",\"symbol\":\"circle\"},\"mode\":\"markers\",\"name\":\"setosa\",\"orientation\":\"v\",\"showlegend\":true,\"x\":[5.1,4.9,4.7,4.6,5.0,5.4,4.6,5.0,4.4,4.9,5.4,4.8,4.8,4.3,5.8,5.7,5.4,5.1,5.7,5.1,5.4,5.1,4.6,5.1,4.8,5.0,5.0,5.2,5.2,4.7,4.8,5.4,5.2,5.5,4.9,5.0,5.5,4.9,4.4,5.1,5.0,4.5,4.4,5.0,5.1,4.8,5.1,4.6,5.3,5.0],\"xaxis\":\"x\",\"y\":[3.5,3.0,3.2,3.1,3.6,3.9,3.4,3.4,2.9,3.1,3.7,3.4,3.0,3.0,4.0,4.4,3.9,3.5,3.8,3.8,3.4,3.7,3.6,3.3,3.4,3.0,3.4,3.5,3.4,3.2,3.1,3.4,4.1,4.2,3.1,3.2,3.5,3.1,3.0,3.4,3.5,2.3,3.2,3.5,3.8,3.0,3.8,3.2,3.7,3.3],\"yaxis\":\"y\",\"type\":\"scatter\"},{\"hovertemplate\":\"species=versicolor\\u003cbr\\u003eSepal Lengt=%{x}\\u003cbr\\u003eSepal Width=%{y}\\u003cextra\\u003e\\u003c\\u002fextra\\u003e\",\"legendgroup\":\"versicolor\",\"marker\":{\"color\":\"#EF553B\",\"symbol\":\"circle\"},\"mode\":\"markers\",\"name\":\"versicolor\",\"orientation\":\"v\",\"showlegend\":true,\"x\":[7.0,6.4,6.9,5.5,6.5,5.7,6.3,4.9,6.6,5.2,5.0,5.9,6.0,6.1,5.6,6.7,5.6,5.8,6.2,5.6,5.9,6.1,6.3,6.1,6.4,6.6,6.8,6.7,6.0,5.7,5.5,5.5,5.8,6.0,5.4,6.0,6.7,6.3,5.6,5.5,5.5,6.1,5.8,5.0,5.6,5.7,5.7,6.2,5.1,5.7],\"xaxis\":\"x\",\"y\":[3.2,3.2,3.1,2.3,2.8,2.8,3.3,2.4,2.9,2.7,2.0,3.0,2.2,2.9,2.9,3.1,3.0,2.7,2.2,2.5,3.2,2.8,2.5,2.8,2.9,3.0,2.8,3.0,2.9,2.6,2.4,2.4,2.7,2.7,3.0,3.4,3.1,2.3,3.0,2.5,2.6,3.0,2.6,2.3,2.7,3.0,2.9,2.9,2.5,2.8],\"yaxis\":\"y\",\"type\":\"scatter\"},{\"hovertemplate\":\"species=virginica\\u003cbr\\u003eSepal Lengt=%{x}\\u003cbr\\u003eSepal Width=%{y}\\u003cextra\\u003e\\u003c\\u002fextra\\u003e\",\"legendgroup\":\"virginica\",\"marker\":{\"color\":\"#00cc96\",\"symbol\":\"circle\"},\"mode\":\"markers\",\"name\":\"virginica\",\"orientation\":\"v\",\"showlegend\":true,\"x\":[6.3,5.8,7.1,6.3,6.5,7.6,4.9,7.3,6.7,7.2,6.5,6.4,6.8,5.7,5.8,6.4,6.5,7.7,7.7,6.0,6.9,5.6,7.7,6.3,6.7,7.2,6.2,6.1,6.4,7.2,7.4,7.9,6.4,6.3,6.1,7.7,6.3,6.4,6.0,6.9,6.7,6.9,5.8,6.8,6.7,6.7,6.3,6.5,6.2,5.9],\"xaxis\":\"x\",\"y\":[3.3,2.7,3.0,2.9,3.0,3.0,2.5,2.9,2.5,3.6,3.2,2.7,3.0,2.5,2.8,3.2,3.0,3.8,2.6,2.2,3.2,2.8,2.8,2.7,3.3,3.2,2.8,3.0,2.8,3.0,2.8,3.8,2.8,2.8,2.6,3.0,3.4,3.1,3.0,3.1,3.1,3.1,2.7,3.2,3.3,3.0,2.5,3.0,3.4,3.0],\"yaxis\":\"y\",\"type\":\"scatter\"}],                        {\"template\":{\"data\":{\"histogram2dcontour\":[{\"type\":\"histogram2dcontour\",\"colorbar\":{\"outlinewidth\":0,\"ticks\":\"\"},\"colorscale\":[[0.0,\"#0d0887\"],[0.1111111111111111,\"#46039f\"],[0.2222222222222222,\"#7201a8\"],[0.3333333333333333,\"#9c179e\"],[0.4444444444444444,\"#bd3786\"],[0.5555555555555556,\"#d8576b\"],[0.6666666666666666,\"#ed7953\"],[0.7777777777777778,\"#fb9f3a\"],[0.8888888888888888,\"#fdca26\"],[1.0,\"#f0f921\"]]}],\"choropleth\":[{\"type\":\"choropleth\",\"colorbar\":{\"outlinewidth\":0,\"ticks\":\"\"}}],\"histogram2d\":[{\"type\":\"histogram2d\",\"colorbar\":{\"outlinewidth\":0,\"ticks\":\"\"},\"colorscale\":[[0.0,\"#0d0887\"],[0.1111111111111111,\"#46039f\"],[0.2222222222222222,\"#7201a8\"],[0.3333333333333333,\"#9c179e\"],[0.4444444444444444,\"#bd3786\"],[0.5555555555555556,\"#d8576b\"],[0.6666666666666666,\"#ed7953\"],[0.7777777777777778,\"#fb9f3a\"],[0.8888888888888888,\"#fdca26\"],[1.0,\"#f0f921\"]]}],\"heatmap\":[{\"type\":\"heatmap\",\"colorbar\":{\"outlinewidth\":0,\"ticks\":\"\"},\"colorscale\":[[0.0,\"#0d0887\"],[0.1111111111111111,\"#46039f\"],[0.2222222222222222,\"#7201a8\"],[0.3333333333333333,\"#9c179e\"],[0.4444444444444444,\"#bd3786\"],[0.5555555555555556,\"#d8576b\"],[0.6666666666666666,\"#ed7953\"],[0.7777777777777778,\"#fb9f3a\"],[0.8888888888888888,\"#fdca26\"],[1.0,\"#f0f921\"]]}],\"heatmapgl\":[{\"type\":\"heatmapgl\",\"colorbar\":{\"outlinewidth\":0,\"ticks\":\"\"},\"colorscale\":[[0.0,\"#0d0887\"],[0.1111111111111111,\"#46039f\"],[0.2222222222222222,\"#7201a8\"],[0.3333333333333333,\"#9c179e\"],[0.4444444444444444,\"#bd3786\"],[0.5555555555555556,\"#d8576b\"],[0.6666666666666666,\"#ed7953\"],[0.7777777777777778,\"#fb9f3a\"],[0.8888888888888888,\"#fdca26\"],[1.0,\"#f0f921\"]]}],\"contourcarpet\":[{\"type\":\"contourcarpet\",\"colorbar\":{\"outlinewidth\":0,\"ticks\":\"\"}}],\"contour\":[{\"type\":\"contour\",\"colorbar\":{\"outlinewidth\":0,\"ticks\":\"\"},\"colorscale\":[[0.0,\"#0d0887\"],[0.1111111111111111,\"#46039f\"],[0.2222222222222222,\"#7201a8\"],[0.3333333333333333,\"#9c179e\"],[0.4444444444444444,\"#bd3786\"],[0.5555555555555556,\"#d8576b\"],[0.6666666666666666,\"#ed7953\"],[0.7777777777777778,\"#fb9f3a\"],[0.8888888888888888,\"#fdca26\"],[1.0,\"#f0f921\"]]}],\"surface\":[{\"type\":\"surface\",\"colorbar\":{\"outlinewidth\":0,\"ticks\":\"\"},\"colorscale\":[[0.0,\"#0d0887\"],[0.1111111111111111,\"#46039f\"],[0.2222222222222222,\"#7201a8\"],[0.3333333333333333,\"#9c179e\"],[0.4444444444444444,\"#bd3786\"],[0.5555555555555556,\"#d8576b\"],[0.6666666666666666,\"#ed7953\"],[0.7777777777777778,\"#fb9f3a\"],[0.8888888888888888,\"#fdca26\"],[1.0,\"#f0f921\"]]}],\"mesh3d\":[{\"type\":\"mesh3d\",\"colorbar\":{\"outlinewidth\":0,\"ticks\":\"\"}}],\"scatter\":[{\"fillpattern\":{\"fillmode\":\"overlay\",\"size\":10,\"solidity\":0.2},\"type\":\"scatter\"}],\"parcoords\":[{\"type\":\"parcoords\",\"line\":{\"colorbar\":{\"outlinewidth\":0,\"ticks\":\"\"}}}],\"scatterpolargl\":[{\"type\":\"scatterpolargl\",\"marker\":{\"colorbar\":{\"outlinewidth\":0,\"ticks\":\"\"}}}],\"bar\":[{\"error_x\":{\"color\":\"#2a3f5f\"},\"error_y\":{\"color\":\"#2a3f5f\"},\"marker\":{\"line\":{\"color\":\"#E5ECF6\",\"width\":0.5},\"pattern\":{\"fillmode\":\"overlay\",\"size\":10,\"solidity\":0.2}},\"type\":\"bar\"}],\"scattergeo\":[{\"type\":\"scattergeo\",\"marker\":{\"colorbar\":{\"outlinewidth\":0,\"ticks\":\"\"}}}],\"scatterpolar\":[{\"type\":\"scatterpolar\",\"marker\":{\"colorbar\":{\"outlinewidth\":0,\"ticks\":\"\"}}}],\"histogram\":[{\"marker\":{\"pattern\":{\"fillmode\":\"overlay\",\"size\":10,\"solidity\":0.2}},\"type\":\"histogram\"}],\"scattergl\":[{\"type\":\"scattergl\",\"marker\":{\"colorbar\":{\"outlinewidth\":0,\"ticks\":\"\"}}}],\"scatter3d\":[{\"type\":\"scatter3d\",\"line\":{\"colorbar\":{\"outlinewidth\":0,\"ticks\":\"\"}},\"marker\":{\"colorbar\":{\"outlinewidth\":0,\"ticks\":\"\"}}}],\"scattermapbox\":[{\"type\":\"scattermapbox\",\"marker\":{\"colorbar\":{\"outlinewidth\":0,\"ticks\":\"\"}}}],\"scatterternary\":[{\"type\":\"scatterternary\",\"marker\":{\"colorbar\":{\"outlinewidth\":0,\"ticks\":\"\"}}}],\"scattercarpet\":[{\"type\":\"scattercarpet\",\"marker\":{\"colorbar\":{\"outlinewidth\":0,\"ticks\":\"\"}}}],\"carpet\":[{\"aaxis\":{\"endlinecolor\":\"#2a3f5f\",\"gridcolor\":\"white\",\"linecolor\":\"white\",\"minorgridcolor\":\"white\",\"startlinecolor\":\"#2a3f5f\"},\"baxis\":{\"endlinecolor\":\"#2a3f5f\",\"gridcolor\":\"white\",\"linecolor\":\"white\",\"minorgridcolor\":\"white\",\"startlinecolor\":\"#2a3f5f\"},\"type\":\"carpet\"}],\"table\":[{\"cells\":{\"fill\":{\"color\":\"#EBF0F8\"},\"line\":{\"color\":\"white\"}},\"header\":{\"fill\":{\"color\":\"#C8D4E3\"},\"line\":{\"color\":\"white\"}},\"type\":\"table\"}],\"barpolar\":[{\"marker\":{\"line\":{\"color\":\"#E5ECF6\",\"width\":0.5},\"pattern\":{\"fillmode\":\"overlay\",\"size\":10,\"solidity\":0.2}},\"type\":\"barpolar\"}],\"pie\":[{\"automargin\":true,\"type\":\"pie\"}]},\"layout\":{\"autotypenumbers\":\"strict\",\"colorway\":[\"#636efa\",\"#EF553B\",\"#00cc96\",\"#ab63fa\",\"#FFA15A\",\"#19d3f3\",\"#FF6692\",\"#B6E880\",\"#FF97FF\",\"#FECB52\"],\"font\":{\"color\":\"#2a3f5f\"},\"hovermode\":\"closest\",\"hoverlabel\":{\"align\":\"left\"},\"paper_bgcolor\":\"white\",\"plot_bgcolor\":\"#E5ECF6\",\"polar\":{\"bgcolor\":\"#E5ECF6\",\"angularaxis\":{\"gridcolor\":\"white\",\"linecolor\":\"white\",\"ticks\":\"\"},\"radialaxis\":{\"gridcolor\":\"white\",\"linecolor\":\"white\",\"ticks\":\"\"}},\"ternary\":{\"bgcolor\":\"#E5ECF6\",\"aaxis\":{\"gridcolor\":\"white\",\"linecolor\":\"white\",\"ticks\":\"\"},\"baxis\":{\"gridcolor\":\"white\",\"linecolor\":\"white\",\"ticks\":\"\"},\"caxis\":{\"gridcolor\":\"white\",\"linecolor\":\"white\",\"ticks\":\"\"}},\"coloraxis\":{\"colorbar\":{\"outlinewidth\":0,\"ticks\":\"\"}},\"colorscale\":{\"sequential\":[[0.0,\"#0d0887\"],[0.1111111111111111,\"#46039f\"],[0.2222222222222222,\"#7201a8\"],[0.3333333333333333,\"#9c179e\"],[0.4444444444444444,\"#bd3786\"],[0.5555555555555556,\"#d8576b\"],[0.6666666666666666,\"#ed7953\"],[0.7777777777777778,\"#fb9f3a\"],[0.8888888888888888,\"#fdca26\"],[1.0,\"#f0f921\"]],\"sequentialminus\":[[0.0,\"#0d0887\"],[0.1111111111111111,\"#46039f\"],[0.2222222222222222,\"#7201a8\"],[0.3333333333333333,\"#9c179e\"],[0.4444444444444444,\"#bd3786\"],[0.5555555555555556,\"#d8576b\"],[0.6666666666666666,\"#ed7953\"],[0.7777777777777778,\"#fb9f3a\"],[0.8888888888888888,\"#fdca26\"],[1.0,\"#f0f921\"]],\"diverging\":[[0,\"#8e0152\"],[0.1,\"#c51b7d\"],[0.2,\"#de77ae\"],[0.3,\"#f1b6da\"],[0.4,\"#fde0ef\"],[0.5,\"#f7f7f7\"],[0.6,\"#e6f5d0\"],[0.7,\"#b8e186\"],[0.8,\"#7fbc41\"],[0.9,\"#4d9221\"],[1,\"#276419\"]]},\"xaxis\":{\"gridcolor\":\"white\",\"linecolor\":\"white\",\"ticks\":\"\",\"title\":{\"standoff\":15},\"zerolinecolor\":\"white\",\"automargin\":true,\"zerolinewidth\":2},\"yaxis\":{\"gridcolor\":\"white\",\"linecolor\":\"white\",\"ticks\":\"\",\"title\":{\"standoff\":15},\"zerolinecolor\":\"white\",\"automargin\":true,\"zerolinewidth\":2},\"scene\":{\"xaxis\":{\"backgroundcolor\":\"#E5ECF6\",\"gridcolor\":\"white\",\"linecolor\":\"white\",\"showbackground\":true,\"ticks\":\"\",\"zerolinecolor\":\"white\",\"gridwidth\":2},\"yaxis\":{\"backgroundcolor\":\"#E5ECF6\",\"gridcolor\":\"white\",\"linecolor\":\"white\",\"showbackground\":true,\"ticks\":\"\",\"zerolinecolor\":\"white\",\"gridwidth\":2},\"zaxis\":{\"backgroundcolor\":\"#E5ECF6\",\"gridcolor\":\"white\",\"linecolor\":\"white\",\"showbackground\":true,\"ticks\":\"\",\"zerolinecolor\":\"white\",\"gridwidth\":2}},\"shapedefaults\":{\"line\":{\"color\":\"#2a3f5f\"}},\"annotationdefaults\":{\"arrowcolor\":\"#2a3f5f\",\"arrowhead\":0,\"arrowwidth\":1},\"geo\":{\"bgcolor\":\"white\",\"landcolor\":\"#E5ECF6\",\"subunitcolor\":\"white\",\"showland\":true,\"showlakes\":true,\"lakecolor\":\"white\"},\"title\":{\"x\":0.05},\"mapbox\":{\"style\":\"light\"}}},\"xaxis\":{\"anchor\":\"y\",\"domain\":[0.0,1.0],\"title\":{\"text\":\"Sepal Lengt\"}},\"yaxis\":{\"anchor\":\"x\",\"domain\":[0.0,1.0],\"title\":{\"text\":\"Sepal Width\"}},\"legend\":{\"title\":{\"text\":\"species\"},\"tracegroupgap\":0},\"title\":{\"text\":\"Sepal Length vs. Sepal Width in Iris Dataset\"}},                        {\"responsive\": true}                    ).then(function(){\n",
       "                            \n",
       "var gd = document.getElementById('d8035013-eb53-45d9-aba6-322ea8acd6ad');\n",
       "var x = new MutationObserver(function (mutations, observer) {{\n",
       "        var display = window.getComputedStyle(gd).display;\n",
       "        if (!display || display === 'none') {{\n",
       "            console.log([gd, 'removed!']);\n",
       "            Plotly.purge(gd);\n",
       "            observer.disconnect();\n",
       "        }}\n",
       "}});\n",
       "\n",
       "// Listen for the removal of the full notebook cells\n",
       "var notebookContainer = gd.closest('#notebook-container');\n",
       "if (notebookContainer) {{\n",
       "    x.observe(notebookContainer, {childList: true});\n",
       "}}\n",
       "\n",
       "// Listen for the clearing of the current output cell\n",
       "var outputEl = gd.closest('.output');\n",
       "if (outputEl) {{\n",
       "    x.observe(outputEl, {childList: true});\n",
       "}}\n",
       "\n",
       "                        })                };                });            </script>        </div>"
      ]
     },
     "metadata": {},
     "output_type": "display_data"
    }
   ],
   "source": [
    "# Put your code here  \n",
    "\n",
    "image = px.scatter(\n",
    "    iris_data, \n",
    "    x=\"sepal_length\", \n",
    "    y=\"sepal_width\", \n",
    "    color=\"species\", \n",
    "    title=\"Sepal Length vs. Sepal Width in Iris Dataset\",\n",
    "    labels={\"sepal_length\": \"Sepal Lengt\", \"sepal_width\": \"Sepal Width\"}\n",
    ")\n",
    "\n",
    "image.show()\n",
    "\n"
   ]
  },
  {
   "cell_type": "markdown",
   "id": "30af3464",
   "metadata": {},
   "source": [
    "#### &#9989; **Question 2.4 (2 points)**: How does your plot look? If you had more time to clean up this visualization, what changes would you make to it?"
   ]
  },
  {
   "cell_type": "markdown",
   "id": "4c3a05af",
   "metadata": {},
   "source": [
    "\n",
    "\n",
    "The plotly library enables great visualation -- when hovering over figures, it shows the species and their respective lenghth and width.\n",
    "\n",
    "I would spend more time finding other relationships between different variables. Length vs width was intuitive for me."
   ]
  },
  {
   "cell_type": "markdown",
   "id": "da4fb42d",
   "metadata": {},
   "source": [
    "---\n",
    "### &#128721; STOP\n",
    "**Pause to commit your changes to your Git repository! (1 point)**\n",
    "\n",
    "Take a moment to save your notebook, commit the changes to your Git repository using the commit message \"**Committing Part 2**\", and push the changes to GitHub."
   ]
  },
  {
   "cell_type": "markdown",
   "id": "c5db3757",
   "metadata": {},
   "source": [
    "----\n",
    "----\n",
    "\n",
    "<a id=\"part-3-downloading-and-analyzing-unfamiliar-data-24-points\"></a>\n",
    "\n",
    "# Part 3: Downloading and Analyzing unfamiliar data (24 points)\n",
    "\n",
    "[Back to Table of Contents](#Table-of-Contents)\n",
    "\n",
    "For this part of the exam, you're to download and analyze a dataset that you've likely not looked at before. You'll perform some simple, exploratorary analysis and create basic visualizations.\n",
    "\n",
    "In particular, you're going to be working with a dataset that contains data on 100 different animes.\n",
    "\n",
    "There are 9 columns; here we will be concerned with those described in the table below.\n",
    "\n",
    "| Column      | Description                                                                           |\n",
    "|-------------|---------------------------------------------------------------------------------------|\n",
    "|  Anime name       | The title of the anime series or movie that is the most watched in a given country.   |\n",
    "|Most watched in country|The country where the specified anime has the highest viewership or popularity.  |\n",
    "| Ratings    | The average viewer rating for the anime, typically on a scale of 1 to 10                |\n",
    "| Number of episodes     | The total number of episodes produced for the anime series.                       |\n",
    "| Studio name      | The name of the production studio responsible for creating the anime               |\n",
    "| Budget | The estimated production budget for the anime, expressed in millions of U.S. dollars.    |\n",
    "| Release year | The year the anime was first released or aired.                                    |\n",
    "| Genre      | The genre or category of the anime                                                |\n",
    "| Duration per episode| The average duration of each episode in minutes for the anime series.             |\n",
    "\n",
    "The link to the full dataset is [here](https://www.kaggle.com/datasets/samikshadalvi/100-most-watched-anime-in-the-world/data)\n",
    "\n"
   ]
  },
  {
   "cell_type": "markdown",
   "id": "7b7bf6af",
   "metadata": {},
   "source": [
    "&#9989; **Question 3.1.1 (1 point)**: To get started, use the curl command to download the data set using this link (https://raw.githubusercontent.com/gambre11/CMSE202/refs/heads/main/most_watched_anime_dataset_100_entries.csv) "
   ]
  },
  {
   "cell_type": "code",
   "execution_count": 37,
   "id": "5c22a4c2",
   "metadata": {},
   "outputs": [
    {
     "name": "stdout",
     "output_type": "stream",
     "text": [
      "  % Total    % Received % Xferd  Average Speed   Time    Time     Time  Current\n",
      "                                 Dload  Upload   Total   Spent    Left  Speed\n",
      "100  6519  100  6519    0     0  52578      0 --:--:-- --:--:-- --:--:-- 53000\n"
     ]
    }
   ],
   "source": [
    "# Put your code/command here\n",
    "#downloaded this inside my midterm folder\n",
    "!curl -O https://raw.githubusercontent.com/gambre11/CMSE202/refs/heads/main/most_watched_anime_dataset_100_entries.csv\n"
   ]
  },
  {
   "cell_type": "markdown",
   "id": "de98c0c0",
   "metadata": {},
   "source": [
    "&#9989; **Question 3.1.2 (2 points)**: Now **read in the dataset** and then display the first 20 rows of the data using **Pandas**."
   ]
  },
  {
   "cell_type": "code",
   "execution_count": 43,
   "id": "a70d19d8",
   "metadata": {
    "question_id": "P2Q3",
    "tags": [
     "student_answer"
    ]
   },
   "outputs": [
    {
     "name": "stdout",
     "output_type": "stream",
     "text": [
      "             Anime Name Most Watched in Country  Ratings  Number of Episodes  \\\n",
      "0   Fullmetal Alchemist                  Brazil      8.8               317.0   \n",
      "1             Haikyuu!!                  Mexico      9.2               420.0   \n",
      "2                   NaN             South Korea      7.4               419.0   \n",
      "3                Bleach                  Brazil      6.4                 NaN   \n",
      "4      Sword Art Online                     NaN      9.8               327.0   \n",
      "5   Fullmetal Alchemist                  Brazil      NaN               402.0   \n",
      "6          Black Clover                  France      8.1                 NaN   \n",
      "7                Bleach                   China      9.4                47.0   \n",
      "8                   NaN                   Spain      8.7               184.0   \n",
      "9          Demon Slayer                     NaN      8.9                31.0   \n",
      "10     Sword Art Online                     NaN      6.8               332.0   \n",
      "11            One Piece                     NaN      8.2               275.0   \n",
      "12      Attack on Titan                   Spain      8.8                 NaN   \n",
      "13          Tokyo Ghoul          United Kingdom      6.9               153.0   \n",
      "14        Dragon Ball Z                  Canada      NaN               471.0   \n",
      "15      Attack on Titan                   China      9.9                 NaN   \n",
      "16               Naruto                   China      8.1               482.0   \n",
      "17          Tokyo Ghoul               Australia      7.0               154.0   \n",
      "18                  NaN                   Italy     10.0               103.0   \n",
      "19       Mob Psycho 100                Thailand      9.9               365.0   \n",
      "\n",
      "   Animation Studio Name  Budget (in Million USD)  Release Year         Genre  \\\n",
      "0               Ufotable                    80.61        1998.0       Fantasy   \n",
      "1                  MAPPA                    74.99        2022.0     Adventure   \n",
      "2           A-1 Pictures                    59.05        2009.0       Mystery   \n",
      "3               Ufotable                    45.35        2002.0       Fantasy   \n",
      "4               Madhouse                    15.90        2017.0           NaN   \n",
      "5                    NaN                     8.97        2018.0           NaN   \n",
      "6               Madhouse                      NaN        2002.0           NaN   \n",
      "7                  MAPPA                   127.22        1995.0     Adventure   \n",
      "8           A-1 Pictures                    53.88        2007.0       Mystery   \n",
      "9                Pierrot                      NaN        1994.0  Supernatural   \n",
      "10                   NaN                   101.84        2014.0        Comedy   \n",
      "11                   NaN                    72.90        1991.0  Supernatural   \n",
      "12                 Bones                    74.46        1999.0        Action   \n",
      "13                 MAPPA                    13.41        2019.0        Comedy   \n",
      "14               Trigger                    14.66        1994.0      Thriller   \n",
      "15               Trigger                    90.76           NaN       Mystery   \n",
      "16                 MAPPA                    83.50        1990.0     Adventure   \n",
      "17              Ufotable                    32.70        2007.0        Action   \n",
      "18                 Bones                   141.98           NaN       Mystery   \n",
      "19         Studio Ghibli                   117.41        2000.0      Thriller   \n",
      "\n",
      "    Duration per Episode (minutes)  \n",
      "0                              NaN  \n",
      "1                             59.0  \n",
      "2                             56.0  \n",
      "3                             55.0  \n",
      "4                             43.0  \n",
      "5                             50.0  \n",
      "6                             25.0  \n",
      "7                             21.0  \n",
      "8                             39.0  \n",
      "9                             47.0  \n",
      "10                             NaN  \n",
      "11                            23.0  \n",
      "12                            34.0  \n",
      "13                            25.0  \n",
      "14                            49.0  \n",
      "15                            57.0  \n",
      "16                            21.0  \n",
      "17                            34.0  \n",
      "18                            30.0  \n",
      "19                            27.0  \n"
     ]
    }
   ],
   "source": [
    "# Put your code here\n",
    "\n",
    "anime_data = pd.read_csv(\"most_watched_anime_dataset_100_entries.csv\")\n",
    "print(anime_data.head(20))\n",
    "\n",
    "\n"
   ]
  },
  {
   "cell_type": "markdown",
   "id": "2c863d2b",
   "metadata": {},
   "source": [
    "This dataset contains more information that we care about at the moment. \n",
    "\n",
    "&#9989; **Question 3.2 (3 pts)**: Remove/Drop the columns ''Genre, Duration per Episode (minutes), Most Watched in Country''\n"
   ]
  },
  {
   "cell_type": "code",
   "execution_count": 74,
   "id": "169ed088",
   "metadata": {
    "question_id": "P2Q3",
    "tags": [
     "student_answer"
    ]
   },
   "outputs": [
    {
     "data": {
      "text/html": [
       "<div>\n",
       "<style scoped>\n",
       "    .dataframe tbody tr th:only-of-type {\n",
       "        vertical-align: middle;\n",
       "    }\n",
       "\n",
       "    .dataframe tbody tr th {\n",
       "        vertical-align: top;\n",
       "    }\n",
       "\n",
       "    .dataframe thead th {\n",
       "        text-align: right;\n",
       "    }\n",
       "</style>\n",
       "<table border=\"1\" class=\"dataframe\">\n",
       "  <thead>\n",
       "    <tr style=\"text-align: right;\">\n",
       "      <th></th>\n",
       "      <th>Anime Name</th>\n",
       "      <th>Ratings</th>\n",
       "      <th>Number of Episodes</th>\n",
       "      <th>Animation Studio Name</th>\n",
       "      <th>Budget (in Million USD)</th>\n",
       "      <th>Release Year</th>\n",
       "    </tr>\n",
       "  </thead>\n",
       "  <tbody>\n",
       "    <tr>\n",
       "      <th>0</th>\n",
       "      <td>Fullmetal Alchemist</td>\n",
       "      <td>8.8</td>\n",
       "      <td>317.0</td>\n",
       "      <td>Ufotable</td>\n",
       "      <td>80.61</td>\n",
       "      <td>1998.0</td>\n",
       "    </tr>\n",
       "    <tr>\n",
       "      <th>1</th>\n",
       "      <td>Haikyuu!!</td>\n",
       "      <td>9.2</td>\n",
       "      <td>420.0</td>\n",
       "      <td>MAPPA</td>\n",
       "      <td>74.99</td>\n",
       "      <td>2022.0</td>\n",
       "    </tr>\n",
       "    <tr>\n",
       "      <th>2</th>\n",
       "      <td>NaN</td>\n",
       "      <td>7.4</td>\n",
       "      <td>419.0</td>\n",
       "      <td>A-1 Pictures</td>\n",
       "      <td>59.05</td>\n",
       "      <td>2009.0</td>\n",
       "    </tr>\n",
       "    <tr>\n",
       "      <th>3</th>\n",
       "      <td>Bleach</td>\n",
       "      <td>6.4</td>\n",
       "      <td>NaN</td>\n",
       "      <td>Ufotable</td>\n",
       "      <td>45.35</td>\n",
       "      <td>2002.0</td>\n",
       "    </tr>\n",
       "    <tr>\n",
       "      <th>4</th>\n",
       "      <td>Sword Art Online</td>\n",
       "      <td>9.8</td>\n",
       "      <td>327.0</td>\n",
       "      <td>Madhouse</td>\n",
       "      <td>15.90</td>\n",
       "      <td>2017.0</td>\n",
       "    </tr>\n",
       "    <tr>\n",
       "      <th>...</th>\n",
       "      <td>...</td>\n",
       "      <td>...</td>\n",
       "      <td>...</td>\n",
       "      <td>...</td>\n",
       "      <td>...</td>\n",
       "      <td>...</td>\n",
       "    </tr>\n",
       "    <tr>\n",
       "      <th>95</th>\n",
       "      <td>Tokyo Ghoul</td>\n",
       "      <td>6.5</td>\n",
       "      <td>499.0</td>\n",
       "      <td>NaN</td>\n",
       "      <td>40.62</td>\n",
       "      <td>NaN</td>\n",
       "    </tr>\n",
       "    <tr>\n",
       "      <th>96</th>\n",
       "      <td>Attack on Titan</td>\n",
       "      <td>8.8</td>\n",
       "      <td>248.0</td>\n",
       "      <td>Pierrot</td>\n",
       "      <td>54.69</td>\n",
       "      <td>1993.0</td>\n",
       "    </tr>\n",
       "    <tr>\n",
       "      <th>97</th>\n",
       "      <td>NaN</td>\n",
       "      <td>8.2</td>\n",
       "      <td>384.0</td>\n",
       "      <td>Madhouse</td>\n",
       "      <td>39.73</td>\n",
       "      <td>2014.0</td>\n",
       "    </tr>\n",
       "    <tr>\n",
       "      <th>98</th>\n",
       "      <td>Jujutsu Kaisen</td>\n",
       "      <td>7.2</td>\n",
       "      <td>396.0</td>\n",
       "      <td>Pierrot</td>\n",
       "      <td>68.53</td>\n",
       "      <td>1992.0</td>\n",
       "    </tr>\n",
       "    <tr>\n",
       "      <th>99</th>\n",
       "      <td>My Hero Academia</td>\n",
       "      <td>7.7</td>\n",
       "      <td>283.0</td>\n",
       "      <td>Studio Ghibli</td>\n",
       "      <td>5.82</td>\n",
       "      <td>2021.0</td>\n",
       "    </tr>\n",
       "  </tbody>\n",
       "</table>\n",
       "<p>100 rows × 6 columns</p>\n",
       "</div>"
      ],
      "text/plain": [
       "             Anime Name  Ratings  Number of Episodes Animation Studio Name  \\\n",
       "0   Fullmetal Alchemist      8.8               317.0              Ufotable   \n",
       "1             Haikyuu!!      9.2               420.0                 MAPPA   \n",
       "2                   NaN      7.4               419.0          A-1 Pictures   \n",
       "3                Bleach      6.4                 NaN              Ufotable   \n",
       "4      Sword Art Online      9.8               327.0              Madhouse   \n",
       "..                  ...      ...                 ...                   ...   \n",
       "95          Tokyo Ghoul      6.5               499.0                   NaN   \n",
       "96      Attack on Titan      8.8               248.0               Pierrot   \n",
       "97                  NaN      8.2               384.0              Madhouse   \n",
       "98       Jujutsu Kaisen      7.2               396.0               Pierrot   \n",
       "99     My Hero Academia      7.7               283.0         Studio Ghibli   \n",
       "\n",
       "    Budget (in Million USD)  Release Year  \n",
       "0                     80.61        1998.0  \n",
       "1                     74.99        2022.0  \n",
       "2                     59.05        2009.0  \n",
       "3                     45.35        2002.0  \n",
       "4                     15.90        2017.0  \n",
       "..                      ...           ...  \n",
       "95                    40.62           NaN  \n",
       "96                    54.69        1993.0  \n",
       "97                    39.73        2014.0  \n",
       "98                    68.53        1992.0  \n",
       "99                     5.82        2021.0  \n",
       "\n",
       "[100 rows x 6 columns]"
      ]
     },
     "execution_count": 74,
     "metadata": {},
     "output_type": "execute_result"
    }
   ],
   "source": [
    "# Put your code here\n",
    "\n",
    "anime_data_cleaned = anime_data.drop(columns=['Genre', 'Duration per Episode (minutes)', 'Most Watched in Country'])\n",
    "#made sure it removed the listed columns above\n",
    "anime_data_cleaned\n"
   ]
  },
  {
   "cell_type": "markdown",
   "id": "a088b448",
   "metadata": {},
   "source": [
    "&#9989; **Question 3.3 (5 points)**: Use built-in Pandas functions to get a quick statistical summary of your data (e.g. the mean, standard deviation, min, max, etc) **divided by Animation studio name .**"
   ]
  },
  {
   "cell_type": "code",
   "execution_count": 71,
   "id": "3e915f6b",
   "metadata": {
    "question_id": "P2Q3",
    "tags": [
     "student_answer"
    ]
   },
   "outputs": [
    {
     "data": {
      "text/html": [
       "<div>\n",
       "<style scoped>\n",
       "    .dataframe tbody tr th:only-of-type {\n",
       "        vertical-align: middle;\n",
       "    }\n",
       "\n",
       "    .dataframe tbody tr th {\n",
       "        vertical-align: top;\n",
       "    }\n",
       "\n",
       "    .dataframe thead tr th {\n",
       "        text-align: left;\n",
       "    }\n",
       "\n",
       "    .dataframe thead tr:last-of-type th {\n",
       "        text-align: right;\n",
       "    }\n",
       "</style>\n",
       "<table border=\"1\" class=\"dataframe\">\n",
       "  <thead>\n",
       "    <tr>\n",
       "      <th></th>\n",
       "      <th colspan=\"4\" halign=\"left\">Ratings</th>\n",
       "      <th colspan=\"4\" halign=\"left\">Number of Episodes</th>\n",
       "      <th colspan=\"4\" halign=\"left\">Budget (in Million USD)</th>\n",
       "      <th colspan=\"4\" halign=\"left\">Release Year</th>\n",
       "    </tr>\n",
       "    <tr>\n",
       "      <th></th>\n",
       "      <th>mean</th>\n",
       "      <th>std</th>\n",
       "      <th>min</th>\n",
       "      <th>max</th>\n",
       "      <th>mean</th>\n",
       "      <th>std</th>\n",
       "      <th>min</th>\n",
       "      <th>max</th>\n",
       "      <th>mean</th>\n",
       "      <th>std</th>\n",
       "      <th>min</th>\n",
       "      <th>max</th>\n",
       "      <th>mean</th>\n",
       "      <th>std</th>\n",
       "      <th>min</th>\n",
       "      <th>max</th>\n",
       "    </tr>\n",
       "    <tr>\n",
       "      <th>Animation Studio Name</th>\n",
       "      <th></th>\n",
       "      <th></th>\n",
       "      <th></th>\n",
       "      <th></th>\n",
       "      <th></th>\n",
       "      <th></th>\n",
       "      <th></th>\n",
       "      <th></th>\n",
       "      <th></th>\n",
       "      <th></th>\n",
       "      <th></th>\n",
       "      <th></th>\n",
       "      <th></th>\n",
       "      <th></th>\n",
       "      <th></th>\n",
       "      <th></th>\n",
       "    </tr>\n",
       "  </thead>\n",
       "  <tbody>\n",
       "    <tr>\n",
       "      <th>A-1 Pictures</th>\n",
       "      <td>8.050000</td>\n",
       "      <td>0.919239</td>\n",
       "      <td>7.4</td>\n",
       "      <td>8.7</td>\n",
       "      <td>318.666667</td>\n",
       "      <td>121.203685</td>\n",
       "      <td>184.0</td>\n",
       "      <td>419.0</td>\n",
       "      <td>40.750000</td>\n",
       "      <td>27.341651</td>\n",
       "      <td>9.32</td>\n",
       "      <td>59.05</td>\n",
       "      <td>2010.666667</td>\n",
       "      <td>4.725816</td>\n",
       "      <td>2007.0</td>\n",
       "      <td>2016.0</td>\n",
       "    </tr>\n",
       "    <tr>\n",
       "      <th>Bones</th>\n",
       "      <td>9.000000</td>\n",
       "      <td>1.324764</td>\n",
       "      <td>6.3</td>\n",
       "      <td>10.0</td>\n",
       "      <td>203.222222</td>\n",
       "      <td>145.141119</td>\n",
       "      <td>74.0</td>\n",
       "      <td>455.0</td>\n",
       "      <td>119.950000</td>\n",
       "      <td>41.784603</td>\n",
       "      <td>25.77</td>\n",
       "      <td>146.71</td>\n",
       "      <td>2007.222222</td>\n",
       "      <td>9.575722</td>\n",
       "      <td>1991.0</td>\n",
       "      <td>2022.0</td>\n",
       "    </tr>\n",
       "    <tr>\n",
       "      <th>MAPPA</th>\n",
       "      <td>8.500000</td>\n",
       "      <td>1.109054</td>\n",
       "      <td>6.8</td>\n",
       "      <td>9.8</td>\n",
       "      <td>231.200000</td>\n",
       "      <td>158.905842</td>\n",
       "      <td>16.0</td>\n",
       "      <td>482.0</td>\n",
       "      <td>74.139000</td>\n",
       "      <td>34.240252</td>\n",
       "      <td>13.41</td>\n",
       "      <td>127.22</td>\n",
       "      <td>2006.454545</td>\n",
       "      <td>12.307426</td>\n",
       "      <td>1990.0</td>\n",
       "      <td>2022.0</td>\n",
       "    </tr>\n",
       "    <tr>\n",
       "      <th>Madhouse</th>\n",
       "      <td>8.809091</td>\n",
       "      <td>0.923531</td>\n",
       "      <td>7.2</td>\n",
       "      <td>9.9</td>\n",
       "      <td>258.300000</td>\n",
       "      <td>129.351416</td>\n",
       "      <td>69.0</td>\n",
       "      <td>407.0</td>\n",
       "      <td>84.910909</td>\n",
       "      <td>41.786028</td>\n",
       "      <td>15.90</td>\n",
       "      <td>137.37</td>\n",
       "      <td>2006.363636</td>\n",
       "      <td>10.828414</td>\n",
       "      <td>1990.0</td>\n",
       "      <td>2019.0</td>\n",
       "    </tr>\n",
       "    <tr>\n",
       "      <th>Pierrot</th>\n",
       "      <td>8.380000</td>\n",
       "      <td>1.202913</td>\n",
       "      <td>7.1</td>\n",
       "      <td>9.9</td>\n",
       "      <td>275.833333</td>\n",
       "      <td>169.996961</td>\n",
       "      <td>31.0</td>\n",
       "      <td>485.0</td>\n",
       "      <td>64.708000</td>\n",
       "      <td>51.753316</td>\n",
       "      <td>12.24</td>\n",
       "      <td>149.38</td>\n",
       "      <td>1995.333333</td>\n",
       "      <td>5.278889</td>\n",
       "      <td>1992.0</td>\n",
       "      <td>2006.0</td>\n",
       "    </tr>\n",
       "    <tr>\n",
       "      <th>Studio Ghibli</th>\n",
       "      <td>7.745455</td>\n",
       "      <td>0.868750</td>\n",
       "      <td>6.7</td>\n",
       "      <td>9.9</td>\n",
       "      <td>194.300000</td>\n",
       "      <td>136.358229</td>\n",
       "      <td>59.0</td>\n",
       "      <td>435.0</td>\n",
       "      <td>77.076000</td>\n",
       "      <td>35.942150</td>\n",
       "      <td>5.82</td>\n",
       "      <td>123.60</td>\n",
       "      <td>2006.090909</td>\n",
       "      <td>10.094103</td>\n",
       "      <td>1993.0</td>\n",
       "      <td>2021.0</td>\n",
       "    </tr>\n",
       "    <tr>\n",
       "      <th>Toei Animation</th>\n",
       "      <td>7.733333</td>\n",
       "      <td>0.760701</td>\n",
       "      <td>6.3</td>\n",
       "      <td>8.4</td>\n",
       "      <td>220.142857</td>\n",
       "      <td>175.614567</td>\n",
       "      <td>12.0</td>\n",
       "      <td>492.0</td>\n",
       "      <td>46.587143</td>\n",
       "      <td>36.219563</td>\n",
       "      <td>9.62</td>\n",
       "      <td>106.17</td>\n",
       "      <td>1998.666667</td>\n",
       "      <td>6.282250</td>\n",
       "      <td>1990.0</td>\n",
       "      <td>2008.0</td>\n",
       "    </tr>\n",
       "    <tr>\n",
       "      <th>Trigger</th>\n",
       "      <td>8.090909</td>\n",
       "      <td>1.176822</td>\n",
       "      <td>6.8</td>\n",
       "      <td>9.9</td>\n",
       "      <td>312.750000</td>\n",
       "      <td>123.207235</td>\n",
       "      <td>135.0</td>\n",
       "      <td>491.0</td>\n",
       "      <td>86.297000</td>\n",
       "      <td>43.775004</td>\n",
       "      <td>14.66</td>\n",
       "      <td>149.39</td>\n",
       "      <td>2003.909091</td>\n",
       "      <td>11.282327</td>\n",
       "      <td>1991.0</td>\n",
       "      <td>2022.0</td>\n",
       "    </tr>\n",
       "    <tr>\n",
       "      <th>Ufotable</th>\n",
       "      <td>8.170000</td>\n",
       "      <td>1.262317</td>\n",
       "      <td>6.4</td>\n",
       "      <td>10.0</td>\n",
       "      <td>248.250000</td>\n",
       "      <td>94.696131</td>\n",
       "      <td>100.0</td>\n",
       "      <td>337.0</td>\n",
       "      <td>61.148889</td>\n",
       "      <td>38.744645</td>\n",
       "      <td>16.91</td>\n",
       "      <td>120.51</td>\n",
       "      <td>2006.250000</td>\n",
       "      <td>8.647873</td>\n",
       "      <td>1997.0</td>\n",
       "      <td>2020.0</td>\n",
       "    </tr>\n",
       "    <tr>\n",
       "      <th>Wit Studio</th>\n",
       "      <td>8.220000</td>\n",
       "      <td>0.983362</td>\n",
       "      <td>7.4</td>\n",
       "      <td>9.8</td>\n",
       "      <td>225.142857</td>\n",
       "      <td>145.576359</td>\n",
       "      <td>69.0</td>\n",
       "      <td>404.0</td>\n",
       "      <td>93.770000</td>\n",
       "      <td>42.775275</td>\n",
       "      <td>34.16</td>\n",
       "      <td>138.77</td>\n",
       "      <td>2007.666667</td>\n",
       "      <td>8.846845</td>\n",
       "      <td>1994.0</td>\n",
       "      <td>2019.0</td>\n",
       "    </tr>\n",
       "  </tbody>\n",
       "</table>\n",
       "</div>"
      ],
      "text/plain": [
       "                        Ratings                      Number of Episodes  \\\n",
       "                           mean       std  min   max               mean   \n",
       "Animation Studio Name                                                     \n",
       "A-1 Pictures           8.050000  0.919239  7.4   8.7         318.666667   \n",
       "Bones                  9.000000  1.324764  6.3  10.0         203.222222   \n",
       "MAPPA                  8.500000  1.109054  6.8   9.8         231.200000   \n",
       "Madhouse               8.809091  0.923531  7.2   9.9         258.300000   \n",
       "Pierrot                8.380000  1.202913  7.1   9.9         275.833333   \n",
       "Studio Ghibli          7.745455  0.868750  6.7   9.9         194.300000   \n",
       "Toei Animation         7.733333  0.760701  6.3   8.4         220.142857   \n",
       "Trigger                8.090909  1.176822  6.8   9.9         312.750000   \n",
       "Ufotable               8.170000  1.262317  6.4  10.0         248.250000   \n",
       "Wit Studio             8.220000  0.983362  7.4   9.8         225.142857   \n",
       "\n",
       "                                                Budget (in Million USD)  \\\n",
       "                              std    min    max                    mean   \n",
       "Animation Studio Name                                                     \n",
       "A-1 Pictures           121.203685  184.0  419.0               40.750000   \n",
       "Bones                  145.141119   74.0  455.0              119.950000   \n",
       "MAPPA                  158.905842   16.0  482.0               74.139000   \n",
       "Madhouse               129.351416   69.0  407.0               84.910909   \n",
       "Pierrot                169.996961   31.0  485.0               64.708000   \n",
       "Studio Ghibli          136.358229   59.0  435.0               77.076000   \n",
       "Toei Animation         175.614567   12.0  492.0               46.587143   \n",
       "Trigger                123.207235  135.0  491.0               86.297000   \n",
       "Ufotable                94.696131  100.0  337.0               61.148889   \n",
       "Wit Studio             145.576359   69.0  404.0               93.770000   \n",
       "\n",
       "                                                Release Year             \\\n",
       "                             std    min     max         mean        std   \n",
       "Animation Studio Name                                                     \n",
       "A-1 Pictures           27.341651   9.32   59.05  2010.666667   4.725816   \n",
       "Bones                  41.784603  25.77  146.71  2007.222222   9.575722   \n",
       "MAPPA                  34.240252  13.41  127.22  2006.454545  12.307426   \n",
       "Madhouse               41.786028  15.90  137.37  2006.363636  10.828414   \n",
       "Pierrot                51.753316  12.24  149.38  1995.333333   5.278889   \n",
       "Studio Ghibli          35.942150   5.82  123.60  2006.090909  10.094103   \n",
       "Toei Animation         36.219563   9.62  106.17  1998.666667   6.282250   \n",
       "Trigger                43.775004  14.66  149.39  2003.909091  11.282327   \n",
       "Ufotable               38.744645  16.91  120.51  2006.250000   8.647873   \n",
       "Wit Studio             42.775275  34.16  138.77  2007.666667   8.846845   \n",
       "\n",
       "                                       \n",
       "                          min     max  \n",
       "Animation Studio Name                  \n",
       "A-1 Pictures           2007.0  2016.0  \n",
       "Bones                  1991.0  2022.0  \n",
       "MAPPA                  1990.0  2022.0  \n",
       "Madhouse               1990.0  2019.0  \n",
       "Pierrot                1992.0  2006.0  \n",
       "Studio Ghibli          1993.0  2021.0  \n",
       "Toei Animation         1990.0  2008.0  \n",
       "Trigger                1991.0  2022.0  \n",
       "Ufotable               1997.0  2020.0  \n",
       "Wit Studio             1994.0  2019.0  "
      ]
     },
     "execution_count": 71,
     "metadata": {},
     "output_type": "execute_result"
    }
   ],
   "source": [
    "# Put your code here\n",
    "\n",
    "\n",
    "\n",
    "#i used this website to pull stat functions. the .agg was really helpful\n",
    "#https://pandas.pydata.org/docs/getting_started/intro_tutorials/06_calculate_statistics.html\n",
    "\n",
    "numeric_columns = [\"Ratings\", \"Number of Episodes\", \"Budget (in Million USD)\", \"Release Year\"]\n",
    "anime_data_cleaned[numeric_columns] = anime_data_cleaned[numeric_columns].apply(pd.to_numeric)\n",
    "studio_stats = anime_data_cleaned.groupby(\"Animation Studio Name\")[numeric_columns].agg(['mean', 'std', 'min', 'max'])\n",
    "studio_stats\n",
    "\n",
    "\n"
   ]
  },
  {
   "cell_type": "markdown",
   "id": "120ed4ef",
   "metadata": {},
   "source": [
    "&#9989; **Question 3.4 (2 points)**: Looking at the above output, answer the following questions: \n",
    "\n",
    "1. Which studio(s) had the highest budget in this dataset?\n",
    "2. Which studio(s) had the earliest release year?\n",
    "3. Which studio(s) had the most entries in this dataset?\n",
    "4. Which studio(s) had the highest average rating in this dataset?"
   ]
  },
  {
   "cell_type": "markdown",
   "id": "9c8b55c9",
   "metadata": {
    "question_id": "P2Q3",
    "tags": [
     "student_answer"
    ]
   },
   "source": [
    "**<font size=+3>&#9998;</font> \n",
    "\n",
    "1) Pierrot and Trigger had max budgets of 149.39\n",
    "2) MAPPA, Madhouse,and Toei Animation had realeases of 1990\n",
    "3) Max amoutn of episodes: Toei Animation at 492\n",
    "4) Bones had the highest avg rating of 9.0\n",
    "\n"
   ]
  },
  {
   "cell_type": "markdown",
   "id": "1042f9f9",
   "metadata": {},
   "source": [
    "&#9989; **Question 3.5 (8 points)**: Using `plotly` make a figure with boxplots showing each animation studio and their number of episodes : \n",
    "\n",
    "1. Make sure the `Animation Studio Name` is the  x-axis and it's labeled\n",
    "\n",
    "2. Give the plot a title\n",
    "\n",
    "3. Set a horizontal line on this plot at y = 300\n",
    "\n",
    "4. Set the background of the plot to be white instead of blue\n",
    "\n",
    "5. **Optional** Can you center the title and/or make each box plot a different color?"
   ]
  },
  {
   "cell_type": "code",
   "execution_count": 115,
   "id": "c0a8537a",
   "metadata": {},
   "outputs": [
    {
     "data": {
      "application/vnd.plotly.v1+json": {
       "config": {
        "plotlyServerURL": "https://plot.ly"
       },
       "data": [
        {
         "alignmentgroup": "True",
         "hovertemplate": "Animation Studio Name=%{x}<br>Number of Episodes=%{y}<extra></extra>",
         "legendgroup": "Ufotable",
         "marker": {
          "color": "#636efa"
         },
         "name": "Ufotable",
         "notched": false,
         "offsetgroup": "Ufotable",
         "orientation": "v",
         "showlegend": true,
         "type": "box",
         "x": [
          "Ufotable",
          "Ufotable",
          "Ufotable",
          "Ufotable",
          "Ufotable",
          "Ufotable",
          "Ufotable",
          "Ufotable"
         ],
         "x0": " ",
         "xaxis": "x",
         "y": [
          317,
          154,
          299,
          337,
          322,
          156,
          301,
          100
         ],
         "y0": " ",
         "yaxis": "y"
        },
        {
         "alignmentgroup": "True",
         "hovertemplate": "Animation Studio Name=%{x}<br>Number of Episodes=%{y}<extra></extra>",
         "legendgroup": "MAPPA",
         "marker": {
          "color": "#EF553B"
         },
         "name": "MAPPA",
         "notched": false,
         "offsetgroup": "MAPPA",
         "orientation": "v",
         "showlegend": true,
         "type": "box",
         "x": [
          "MAPPA",
          "MAPPA",
          "MAPPA",
          "MAPPA",
          "MAPPA",
          "MAPPA",
          "MAPPA",
          "MAPPA",
          "MAPPA",
          "MAPPA"
         ],
         "x0": " ",
         "xaxis": "x",
         "y": [
          420,
          47,
          153,
          482,
          62,
          316,
          16,
          286,
          240,
          290
         ],
         "y0": " ",
         "yaxis": "y"
        },
        {
         "alignmentgroup": "True",
         "hovertemplate": "Animation Studio Name=%{x}<br>Number of Episodes=%{y}<extra></extra>",
         "legendgroup": "A-1 Pictures",
         "marker": {
          "color": "#00cc96"
         },
         "name": "A-1 Pictures",
         "notched": false,
         "offsetgroup": "A-1 Pictures",
         "orientation": "v",
         "showlegend": true,
         "type": "box",
         "x": [
          "A-1 Pictures",
          "A-1 Pictures",
          "A-1 Pictures"
         ],
         "x0": " ",
         "xaxis": "x",
         "y": [
          419,
          184,
          353
         ],
         "y0": " ",
         "yaxis": "y"
        },
        {
         "alignmentgroup": "True",
         "hovertemplate": "Animation Studio Name=%{x}<br>Number of Episodes=%{y}<extra></extra>",
         "legendgroup": "Madhouse",
         "marker": {
          "color": "#ab63fa"
         },
         "name": "Madhouse",
         "notched": false,
         "offsetgroup": "Madhouse",
         "orientation": "v",
         "showlegend": true,
         "type": "box",
         "x": [
          "Madhouse",
          "Madhouse",
          "Madhouse",
          "Madhouse",
          "Madhouse",
          "Madhouse",
          "Madhouse",
          "Madhouse",
          "Madhouse",
          "Madhouse"
         ],
         "x0": " ",
         "xaxis": "x",
         "y": [
          327,
          161,
          275,
          119,
          114,
          361,
          366,
          407,
          69,
          384
         ],
         "y0": " ",
         "yaxis": "y"
        },
        {
         "alignmentgroup": "True",
         "hovertemplate": "Animation Studio Name=%{x}<br>Number of Episodes=%{y}<extra></extra>",
         "legendgroup": "Pierrot",
         "marker": {
          "color": "#19d3f3"
         },
         "name": "Pierrot",
         "notched": false,
         "offsetgroup": "Pierrot",
         "orientation": "v",
         "showlegend": true,
         "type": "box",
         "x": [
          "Pierrot",
          "Pierrot",
          "Pierrot",
          "Pierrot",
          "Pierrot",
          "Pierrot"
         ],
         "x0": " ",
         "xaxis": "x",
         "y": [
          31,
          357,
          485,
          138,
          248,
          396
         ],
         "y0": " ",
         "yaxis": "y"
        },
        {
         "alignmentgroup": "True",
         "hovertemplate": "Animation Studio Name=%{x}<br>Number of Episodes=%{y}<extra></extra>",
         "legendgroup": "Trigger",
         "marker": {
          "color": "#FF6692"
         },
         "name": "Trigger",
         "notched": false,
         "offsetgroup": "Trigger",
         "orientation": "v",
         "showlegend": true,
         "type": "box",
         "x": [
          "Trigger",
          "Trigger",
          "Trigger",
          "Trigger",
          "Trigger",
          "Trigger",
          "Trigger",
          "Trigger",
          "Trigger",
          "Trigger",
          "Trigger",
          "Trigger"
         ],
         "x0": " ",
         "xaxis": "x",
         "y": [
          471,
          226,
          458,
          201,
          136,
          325,
          491,
          319,
          280,
          381,
          135,
          330
         ],
         "y0": " ",
         "yaxis": "y"
        },
        {
         "alignmentgroup": "True",
         "hovertemplate": "Animation Studio Name=%{x}<br>Number of Episodes=%{y}<extra></extra>",
         "legendgroup": "Bones",
         "marker": {
          "color": "#B6E880"
         },
         "name": "Bones",
         "notched": false,
         "offsetgroup": "Bones",
         "orientation": "v",
         "showlegend": true,
         "type": "box",
         "x": [
          "Bones",
          "Bones",
          "Bones",
          "Bones",
          "Bones",
          "Bones",
          "Bones",
          "Bones",
          "Bones"
         ],
         "x0": " ",
         "xaxis": "x",
         "y": [
          103,
          164,
          74,
          191,
          455,
          131,
          450,
          128,
          133
         ],
         "y0": " ",
         "yaxis": "y"
        },
        {
         "alignmentgroup": "True",
         "hovertemplate": "Animation Studio Name=%{x}<br>Number of Episodes=%{y}<extra></extra>",
         "legendgroup": "Studio Ghibli",
         "marker": {
          "color": "#FF97FF"
         },
         "name": "Studio Ghibli",
         "notched": false,
         "offsetgroup": "Studio Ghibli",
         "orientation": "v",
         "showlegend": true,
         "type": "box",
         "x": [
          "Studio Ghibli",
          "Studio Ghibli",
          "Studio Ghibli",
          "Studio Ghibli",
          "Studio Ghibli",
          "Studio Ghibli",
          "Studio Ghibli",
          "Studio Ghibli",
          "Studio Ghibli",
          "Studio Ghibli"
         ],
         "x0": " ",
         "xaxis": "x",
         "y": [
          365,
          69,
          64,
          71,
          207,
          435,
          140,
          250,
          59,
          283
         ],
         "y0": " ",
         "yaxis": "y"
        },
        {
         "alignmentgroup": "True",
         "hovertemplate": "Animation Studio Name=%{x}<br>Number of Episodes=%{y}<extra></extra>",
         "legendgroup": "Toei Animation",
         "marker": {
          "color": "#FECB52"
         },
         "name": "Toei Animation",
         "notched": false,
         "offsetgroup": "Toei Animation",
         "orientation": "v",
         "showlegend": true,
         "type": "box",
         "x": [
          "Toei Animation",
          "Toei Animation",
          "Toei Animation",
          "Toei Animation",
          "Toei Animation",
          "Toei Animation",
          "Toei Animation"
         ],
         "x0": " ",
         "xaxis": "x",
         "y": [
          197,
          282,
          492,
          383,
          58,
          117,
          12
         ],
         "y0": " ",
         "yaxis": "y"
        },
        {
         "alignmentgroup": "True",
         "hovertemplate": "Animation Studio Name=%{x}<br>Number of Episodes=%{y}<extra></extra>",
         "legendgroup": "Wit Studio",
         "marker": {
          "color": "#636efa"
         },
         "name": "Wit Studio",
         "notched": false,
         "offsetgroup": "Wit Studio",
         "orientation": "v",
         "showlegend": true,
         "type": "box",
         "x": [
          "Wit Studio",
          "Wit Studio",
          "Wit Studio",
          "Wit Studio",
          "Wit Studio",
          "Wit Studio",
          "Wit Studio"
         ],
         "x0": " ",
         "xaxis": "x",
         "y": [
          353,
          112,
          376,
          155,
          69,
          404,
          107
         ],
         "y0": " ",
         "yaxis": "y"
        }
       ],
       "layout": {
        "autosize": true,
        "boxmode": "overlay",
        "legend": {
         "title": {
          "text": "Animation Studio Name"
         },
         "tracegroupgap": 0
        },
        "plot_bgcolor": "white",
        "shapes": [
         {
          "line": {
           "color": "red"
          },
          "type": "line",
          "x0": -0.5,
          "x1": 11,
          "y0": 300,
          "y1": 300
         }
        ],
        "showlegend": false,
        "template": {
         "data": {
          "bar": [
           {
            "error_x": {
             "color": "#2a3f5f"
            },
            "error_y": {
             "color": "#2a3f5f"
            },
            "marker": {
             "line": {
              "color": "#E5ECF6",
              "width": 0.5
             },
             "pattern": {
              "fillmode": "overlay",
              "size": 10,
              "solidity": 0.2
             }
            },
            "type": "bar"
           }
          ],
          "barpolar": [
           {
            "marker": {
             "line": {
              "color": "#E5ECF6",
              "width": 0.5
             },
             "pattern": {
              "fillmode": "overlay",
              "size": 10,
              "solidity": 0.2
             }
            },
            "type": "barpolar"
           }
          ],
          "carpet": [
           {
            "aaxis": {
             "endlinecolor": "#2a3f5f",
             "gridcolor": "white",
             "linecolor": "white",
             "minorgridcolor": "white",
             "startlinecolor": "#2a3f5f"
            },
            "baxis": {
             "endlinecolor": "#2a3f5f",
             "gridcolor": "white",
             "linecolor": "white",
             "minorgridcolor": "white",
             "startlinecolor": "#2a3f5f"
            },
            "type": "carpet"
           }
          ],
          "choropleth": [
           {
            "colorbar": {
             "outlinewidth": 0,
             "ticks": ""
            },
            "type": "choropleth"
           }
          ],
          "contour": [
           {
            "colorbar": {
             "outlinewidth": 0,
             "ticks": ""
            },
            "colorscale": [
             [
              0,
              "#0d0887"
             ],
             [
              0.1111111111111111,
              "#46039f"
             ],
             [
              0.2222222222222222,
              "#7201a8"
             ],
             [
              0.3333333333333333,
              "#9c179e"
             ],
             [
              0.4444444444444444,
              "#bd3786"
             ],
             [
              0.5555555555555556,
              "#d8576b"
             ],
             [
              0.6666666666666666,
              "#ed7953"
             ],
             [
              0.7777777777777778,
              "#fb9f3a"
             ],
             [
              0.8888888888888888,
              "#fdca26"
             ],
             [
              1,
              "#f0f921"
             ]
            ],
            "type": "contour"
           }
          ],
          "contourcarpet": [
           {
            "colorbar": {
             "outlinewidth": 0,
             "ticks": ""
            },
            "type": "contourcarpet"
           }
          ],
          "heatmap": [
           {
            "colorbar": {
             "outlinewidth": 0,
             "ticks": ""
            },
            "colorscale": [
             [
              0,
              "#0d0887"
             ],
             [
              0.1111111111111111,
              "#46039f"
             ],
             [
              0.2222222222222222,
              "#7201a8"
             ],
             [
              0.3333333333333333,
              "#9c179e"
             ],
             [
              0.4444444444444444,
              "#bd3786"
             ],
             [
              0.5555555555555556,
              "#d8576b"
             ],
             [
              0.6666666666666666,
              "#ed7953"
             ],
             [
              0.7777777777777778,
              "#fb9f3a"
             ],
             [
              0.8888888888888888,
              "#fdca26"
             ],
             [
              1,
              "#f0f921"
             ]
            ],
            "type": "heatmap"
           }
          ],
          "heatmapgl": [
           {
            "colorbar": {
             "outlinewidth": 0,
             "ticks": ""
            },
            "colorscale": [
             [
              0,
              "#0d0887"
             ],
             [
              0.1111111111111111,
              "#46039f"
             ],
             [
              0.2222222222222222,
              "#7201a8"
             ],
             [
              0.3333333333333333,
              "#9c179e"
             ],
             [
              0.4444444444444444,
              "#bd3786"
             ],
             [
              0.5555555555555556,
              "#d8576b"
             ],
             [
              0.6666666666666666,
              "#ed7953"
             ],
             [
              0.7777777777777778,
              "#fb9f3a"
             ],
             [
              0.8888888888888888,
              "#fdca26"
             ],
             [
              1,
              "#f0f921"
             ]
            ],
            "type": "heatmapgl"
           }
          ],
          "histogram": [
           {
            "marker": {
             "pattern": {
              "fillmode": "overlay",
              "size": 10,
              "solidity": 0.2
             }
            },
            "type": "histogram"
           }
          ],
          "histogram2d": [
           {
            "colorbar": {
             "outlinewidth": 0,
             "ticks": ""
            },
            "colorscale": [
             [
              0,
              "#0d0887"
             ],
             [
              0.1111111111111111,
              "#46039f"
             ],
             [
              0.2222222222222222,
              "#7201a8"
             ],
             [
              0.3333333333333333,
              "#9c179e"
             ],
             [
              0.4444444444444444,
              "#bd3786"
             ],
             [
              0.5555555555555556,
              "#d8576b"
             ],
             [
              0.6666666666666666,
              "#ed7953"
             ],
             [
              0.7777777777777778,
              "#fb9f3a"
             ],
             [
              0.8888888888888888,
              "#fdca26"
             ],
             [
              1,
              "#f0f921"
             ]
            ],
            "type": "histogram2d"
           }
          ],
          "histogram2dcontour": [
           {
            "colorbar": {
             "outlinewidth": 0,
             "ticks": ""
            },
            "colorscale": [
             [
              0,
              "#0d0887"
             ],
             [
              0.1111111111111111,
              "#46039f"
             ],
             [
              0.2222222222222222,
              "#7201a8"
             ],
             [
              0.3333333333333333,
              "#9c179e"
             ],
             [
              0.4444444444444444,
              "#bd3786"
             ],
             [
              0.5555555555555556,
              "#d8576b"
             ],
             [
              0.6666666666666666,
              "#ed7953"
             ],
             [
              0.7777777777777778,
              "#fb9f3a"
             ],
             [
              0.8888888888888888,
              "#fdca26"
             ],
             [
              1,
              "#f0f921"
             ]
            ],
            "type": "histogram2dcontour"
           }
          ],
          "mesh3d": [
           {
            "colorbar": {
             "outlinewidth": 0,
             "ticks": ""
            },
            "type": "mesh3d"
           }
          ],
          "parcoords": [
           {
            "line": {
             "colorbar": {
              "outlinewidth": 0,
              "ticks": ""
             }
            },
            "type": "parcoords"
           }
          ],
          "pie": [
           {
            "automargin": true,
            "type": "pie"
           }
          ],
          "scatter": [
           {
            "fillpattern": {
             "fillmode": "overlay",
             "size": 10,
             "solidity": 0.2
            },
            "type": "scatter"
           }
          ],
          "scatter3d": [
           {
            "line": {
             "colorbar": {
              "outlinewidth": 0,
              "ticks": ""
             }
            },
            "marker": {
             "colorbar": {
              "outlinewidth": 0,
              "ticks": ""
             }
            },
            "type": "scatter3d"
           }
          ],
          "scattercarpet": [
           {
            "marker": {
             "colorbar": {
              "outlinewidth": 0,
              "ticks": ""
             }
            },
            "type": "scattercarpet"
           }
          ],
          "scattergeo": [
           {
            "marker": {
             "colorbar": {
              "outlinewidth": 0,
              "ticks": ""
             }
            },
            "type": "scattergeo"
           }
          ],
          "scattergl": [
           {
            "marker": {
             "colorbar": {
              "outlinewidth": 0,
              "ticks": ""
             }
            },
            "type": "scattergl"
           }
          ],
          "scattermapbox": [
           {
            "marker": {
             "colorbar": {
              "outlinewidth": 0,
              "ticks": ""
             }
            },
            "type": "scattermapbox"
           }
          ],
          "scatterpolar": [
           {
            "marker": {
             "colorbar": {
              "outlinewidth": 0,
              "ticks": ""
             }
            },
            "type": "scatterpolar"
           }
          ],
          "scatterpolargl": [
           {
            "marker": {
             "colorbar": {
              "outlinewidth": 0,
              "ticks": ""
             }
            },
            "type": "scatterpolargl"
           }
          ],
          "scatterternary": [
           {
            "marker": {
             "colorbar": {
              "outlinewidth": 0,
              "ticks": ""
             }
            },
            "type": "scatterternary"
           }
          ],
          "surface": [
           {
            "colorbar": {
             "outlinewidth": 0,
             "ticks": ""
            },
            "colorscale": [
             [
              0,
              "#0d0887"
             ],
             [
              0.1111111111111111,
              "#46039f"
             ],
             [
              0.2222222222222222,
              "#7201a8"
             ],
             [
              0.3333333333333333,
              "#9c179e"
             ],
             [
              0.4444444444444444,
              "#bd3786"
             ],
             [
              0.5555555555555556,
              "#d8576b"
             ],
             [
              0.6666666666666666,
              "#ed7953"
             ],
             [
              0.7777777777777778,
              "#fb9f3a"
             ],
             [
              0.8888888888888888,
              "#fdca26"
             ],
             [
              1,
              "#f0f921"
             ]
            ],
            "type": "surface"
           }
          ],
          "table": [
           {
            "cells": {
             "fill": {
              "color": "#EBF0F8"
             },
             "line": {
              "color": "white"
             }
            },
            "header": {
             "fill": {
              "color": "#C8D4E3"
             },
             "line": {
              "color": "white"
             }
            },
            "type": "table"
           }
          ]
         },
         "layout": {
          "annotationdefaults": {
           "arrowcolor": "#2a3f5f",
           "arrowhead": 0,
           "arrowwidth": 1
          },
          "autotypenumbers": "strict",
          "coloraxis": {
           "colorbar": {
            "outlinewidth": 0,
            "ticks": ""
           }
          },
          "colorscale": {
           "diverging": [
            [
             0,
             "#8e0152"
            ],
            [
             0.1,
             "#c51b7d"
            ],
            [
             0.2,
             "#de77ae"
            ],
            [
             0.3,
             "#f1b6da"
            ],
            [
             0.4,
             "#fde0ef"
            ],
            [
             0.5,
             "#f7f7f7"
            ],
            [
             0.6,
             "#e6f5d0"
            ],
            [
             0.7,
             "#b8e186"
            ],
            [
             0.8,
             "#7fbc41"
            ],
            [
             0.9,
             "#4d9221"
            ],
            [
             1,
             "#276419"
            ]
           ],
           "sequential": [
            [
             0,
             "#0d0887"
            ],
            [
             0.1111111111111111,
             "#46039f"
            ],
            [
             0.2222222222222222,
             "#7201a8"
            ],
            [
             0.3333333333333333,
             "#9c179e"
            ],
            [
             0.4444444444444444,
             "#bd3786"
            ],
            [
             0.5555555555555556,
             "#d8576b"
            ],
            [
             0.6666666666666666,
             "#ed7953"
            ],
            [
             0.7777777777777778,
             "#fb9f3a"
            ],
            [
             0.8888888888888888,
             "#fdca26"
            ],
            [
             1,
             "#f0f921"
            ]
           ],
           "sequentialminus": [
            [
             0,
             "#0d0887"
            ],
            [
             0.1111111111111111,
             "#46039f"
            ],
            [
             0.2222222222222222,
             "#7201a8"
            ],
            [
             0.3333333333333333,
             "#9c179e"
            ],
            [
             0.4444444444444444,
             "#bd3786"
            ],
            [
             0.5555555555555556,
             "#d8576b"
            ],
            [
             0.6666666666666666,
             "#ed7953"
            ],
            [
             0.7777777777777778,
             "#fb9f3a"
            ],
            [
             0.8888888888888888,
             "#fdca26"
            ],
            [
             1,
             "#f0f921"
            ]
           ]
          },
          "colorway": [
           "#636efa",
           "#EF553B",
           "#00cc96",
           "#ab63fa",
           "#FFA15A",
           "#19d3f3",
           "#FF6692",
           "#B6E880",
           "#FF97FF",
           "#FECB52"
          ],
          "font": {
           "color": "#2a3f5f"
          },
          "geo": {
           "bgcolor": "white",
           "lakecolor": "white",
           "landcolor": "#E5ECF6",
           "showlakes": true,
           "showland": true,
           "subunitcolor": "white"
          },
          "hoverlabel": {
           "align": "left"
          },
          "hovermode": "closest",
          "mapbox": {
           "style": "light"
          },
          "paper_bgcolor": "white",
          "plot_bgcolor": "#E5ECF6",
          "polar": {
           "angularaxis": {
            "gridcolor": "white",
            "linecolor": "white",
            "ticks": ""
           },
           "bgcolor": "#E5ECF6",
           "radialaxis": {
            "gridcolor": "white",
            "linecolor": "white",
            "ticks": ""
           }
          },
          "scene": {
           "xaxis": {
            "backgroundcolor": "#E5ECF6",
            "gridcolor": "white",
            "gridwidth": 2,
            "linecolor": "white",
            "showbackground": true,
            "ticks": "",
            "zerolinecolor": "white"
           },
           "yaxis": {
            "backgroundcolor": "#E5ECF6",
            "gridcolor": "white",
            "gridwidth": 2,
            "linecolor": "white",
            "showbackground": true,
            "ticks": "",
            "zerolinecolor": "white"
           },
           "zaxis": {
            "backgroundcolor": "#E5ECF6",
            "gridcolor": "white",
            "gridwidth": 2,
            "linecolor": "white",
            "showbackground": true,
            "ticks": "",
            "zerolinecolor": "white"
           }
          },
          "shapedefaults": {
           "line": {
            "color": "#2a3f5f"
           }
          },
          "ternary": {
           "aaxis": {
            "gridcolor": "white",
            "linecolor": "white",
            "ticks": ""
           },
           "baxis": {
            "gridcolor": "white",
            "linecolor": "white",
            "ticks": ""
           },
           "bgcolor": "#E5ECF6",
           "caxis": {
            "gridcolor": "white",
            "linecolor": "white",
            "ticks": ""
           }
          },
          "title": {
           "x": 0.05
          },
          "xaxis": {
           "automargin": true,
           "gridcolor": "white",
           "linecolor": "white",
           "ticks": "",
           "title": {
            "standoff": 15
           },
           "zerolinecolor": "white",
           "zerolinewidth": 2
          },
          "yaxis": {
           "automargin": true,
           "gridcolor": "white",
           "linecolor": "white",
           "ticks": "",
           "title": {
            "standoff": 15
           },
           "zerolinecolor": "white",
           "zerolinewidth": 2
          }
         }
        },
        "title": {
         "text": "Number of Episodes by Animation Studio",
         "x": 0.5
        },
        "xaxis": {
         "anchor": "y",
         "autorange": true,
         "categoryarray": [
          "Ufotable",
          "MAPPA",
          "A-1 Pictures",
          "Madhouse",
          null,
          "Pierrot",
          "Trigger",
          "Bones",
          "Studio Ghibli",
          "Toei Animation",
          "Wit Studio"
         ],
         "categoryorder": "array",
         "domain": [
          0,
          1
         ],
         "range": [
          -0.5120292887029289,
          11.012029288702928
         ],
         "title": {
          "text": "Animation Studio Name"
         },
         "type": "category"
        },
        "yaxis": {
         "anchor": "x",
         "autorange": true,
         "domain": [
          0,
          1
         ],
         "range": [
          -14.666666666666664,
          518.6666666666666
         ],
         "title": {
          "text": "Number of Episodes"
         },
         "type": "linear"
        }
       }
      },
      "image/png": "[encoded data removed]",
      "text/html": [
       "<div>                            <div id=\"ff8ba176-0ccb-4cbd-a4db-77903ec830f3\" class=\"plotly-graph-div\" style=\"height:525px; width:100%;\"></div>            <script type=\"text/javascript\">                require([\"plotly\"], function(Plotly) {                    window.PLOTLYENV=window.PLOTLYENV || {};                                    if (document.getElementById(\"ff8ba176-0ccb-4cbd-a4db-77903ec830f3\")) {                    Plotly.newPlot(                        \"ff8ba176-0ccb-4cbd-a4db-77903ec830f3\",                        [{\"alignmentgroup\":\"True\",\"hovertemplate\":\"Animation Studio Name=%{x}\\u003cbr\\u003eNumber of Episodes=%{y}\\u003cextra\\u003e\\u003c\\u002fextra\\u003e\",\"legendgroup\":\"Ufotable\",\"marker\":{\"color\":\"#636efa\"},\"name\":\"Ufotable\",\"notched\":false,\"offsetgroup\":\"Ufotable\",\"orientation\":\"v\",\"showlegend\":true,\"x\":[\"Ufotable\",\"Ufotable\",\"Ufotable\",\"Ufotable\",\"Ufotable\",\"Ufotable\",\"Ufotable\",\"Ufotable\"],\"x0\":\" \",\"xaxis\":\"x\",\"y\":[317.0,154.0,299.0,337.0,322.0,156.0,301.0,100.0],\"y0\":\" \",\"yaxis\":\"y\",\"type\":\"box\"},{\"alignmentgroup\":\"True\",\"hovertemplate\":\"Animation Studio Name=%{x}\\u003cbr\\u003eNumber of Episodes=%{y}\\u003cextra\\u003e\\u003c\\u002fextra\\u003e\",\"legendgroup\":\"MAPPA\",\"marker\":{\"color\":\"#EF553B\"},\"name\":\"MAPPA\",\"notched\":false,\"offsetgroup\":\"MAPPA\",\"orientation\":\"v\",\"showlegend\":true,\"x\":[\"MAPPA\",\"MAPPA\",\"MAPPA\",\"MAPPA\",\"MAPPA\",\"MAPPA\",\"MAPPA\",\"MAPPA\",\"MAPPA\",\"MAPPA\"],\"x0\":\" \",\"xaxis\":\"x\",\"y\":[420.0,47.0,153.0,482.0,62.0,316.0,16.0,286.0,240.0,290.0],\"y0\":\" \",\"yaxis\":\"y\",\"type\":\"box\"},{\"alignmentgroup\":\"True\",\"hovertemplate\":\"Animation Studio Name=%{x}\\u003cbr\\u003eNumber of Episodes=%{y}\\u003cextra\\u003e\\u003c\\u002fextra\\u003e\",\"legendgroup\":\"A-1 Pictures\",\"marker\":{\"color\":\"#00cc96\"},\"name\":\"A-1 Pictures\",\"notched\":false,\"offsetgroup\":\"A-1 Pictures\",\"orientation\":\"v\",\"showlegend\":true,\"x\":[\"A-1 Pictures\",\"A-1 Pictures\",\"A-1 Pictures\"],\"x0\":\" \",\"xaxis\":\"x\",\"y\":[419.0,184.0,353.0],\"y0\":\" \",\"yaxis\":\"y\",\"type\":\"box\"},{\"alignmentgroup\":\"True\",\"hovertemplate\":\"Animation Studio Name=%{x}\\u003cbr\\u003eNumber of Episodes=%{y}\\u003cextra\\u003e\\u003c\\u002fextra\\u003e\",\"legendgroup\":\"Madhouse\",\"marker\":{\"color\":\"#ab63fa\"},\"name\":\"Madhouse\",\"notched\":false,\"offsetgroup\":\"Madhouse\",\"orientation\":\"v\",\"showlegend\":true,\"x\":[\"Madhouse\",\"Madhouse\",\"Madhouse\",\"Madhouse\",\"Madhouse\",\"Madhouse\",\"Madhouse\",\"Madhouse\",\"Madhouse\",\"Madhouse\"],\"x0\":\" \",\"xaxis\":\"x\",\"y\":[327.0,161.0,275.0,119.0,114.0,361.0,366.0,407.0,69.0,384.0],\"y0\":\" \",\"yaxis\":\"y\",\"type\":\"box\"},{\"alignmentgroup\":\"True\",\"hovertemplate\":\"Animation Studio Name=%{x}\\u003cbr\\u003eNumber of Episodes=%{y}\\u003cextra\\u003e\\u003c\\u002fextra\\u003e\",\"legendgroup\":\"Pierrot\",\"marker\":{\"color\":\"#19d3f3\"},\"name\":\"Pierrot\",\"notched\":false,\"offsetgroup\":\"Pierrot\",\"orientation\":\"v\",\"showlegend\":true,\"x\":[\"Pierrot\",\"Pierrot\",\"Pierrot\",\"Pierrot\",\"Pierrot\",\"Pierrot\"],\"x0\":\" \",\"xaxis\":\"x\",\"y\":[31.0,357.0,485.0,138.0,248.0,396.0],\"y0\":\" \",\"yaxis\":\"y\",\"type\":\"box\"},{\"alignmentgroup\":\"True\",\"hovertemplate\":\"Animation Studio Name=%{x}\\u003cbr\\u003eNumber of Episodes=%{y}\\u003cextra\\u003e\\u003c\\u002fextra\\u003e\",\"legendgroup\":\"Trigger\",\"marker\":{\"color\":\"#FF6692\"},\"name\":\"Trigger\",\"notched\":false,\"offsetgroup\":\"Trigger\",\"orientation\":\"v\",\"showlegend\":true,\"x\":[\"Trigger\",\"Trigger\",\"Trigger\",\"Trigger\",\"Trigger\",\"Trigger\",\"Trigger\",\"Trigger\",\"Trigger\",\"Trigger\",\"Trigger\",\"Trigger\"],\"x0\":\" \",\"xaxis\":\"x\",\"y\":[471.0,226.0,458.0,201.0,136.0,325.0,491.0,319.0,280.0,381.0,135.0,330.0],\"y0\":\" \",\"yaxis\":\"y\",\"type\":\"box\"},{\"alignmentgroup\":\"True\",\"hovertemplate\":\"Animation Studio Name=%{x}\\u003cbr\\u003eNumber of Episodes=%{y}\\u003cextra\\u003e\\u003c\\u002fextra\\u003e\",\"legendgroup\":\"Bones\",\"marker\":{\"color\":\"#B6E880\"},\"name\":\"Bones\",\"notched\":false,\"offsetgroup\":\"Bones\",\"orientation\":\"v\",\"showlegend\":true,\"x\":[\"Bones\",\"Bones\",\"Bones\",\"Bones\",\"Bones\",\"Bones\",\"Bones\",\"Bones\",\"Bones\"],\"x0\":\" \",\"xaxis\":\"x\",\"y\":[103.0,164.0,74.0,191.0,455.0,131.0,450.0,128.0,133.0],\"y0\":\" \",\"yaxis\":\"y\",\"type\":\"box\"},{\"alignmentgroup\":\"True\",\"hovertemplate\":\"Animation Studio Name=%{x}\\u003cbr\\u003eNumber of Episodes=%{y}\\u003cextra\\u003e\\u003c\\u002fextra\\u003e\",\"legendgroup\":\"Studio Ghibli\",\"marker\":{\"color\":\"#FF97FF\"},\"name\":\"Studio Ghibli\",\"notched\":false,\"offsetgroup\":\"Studio Ghibli\",\"orientation\":\"v\",\"showlegend\":true,\"x\":[\"Studio Ghibli\",\"Studio Ghibli\",\"Studio Ghibli\",\"Studio Ghibli\",\"Studio Ghibli\",\"Studio Ghibli\",\"Studio Ghibli\",\"Studio Ghibli\",\"Studio Ghibli\",\"Studio Ghibli\"],\"x0\":\" \",\"xaxis\":\"x\",\"y\":[365.0,69.0,64.0,71.0,207.0,435.0,140.0,250.0,59.0,283.0],\"y0\":\" \",\"yaxis\":\"y\",\"type\":\"box\"},{\"alignmentgroup\":\"True\",\"hovertemplate\":\"Animation Studio Name=%{x}\\u003cbr\\u003eNumber of Episodes=%{y}\\u003cextra\\u003e\\u003c\\u002fextra\\u003e\",\"legendgroup\":\"Toei Animation\",\"marker\":{\"color\":\"#FECB52\"},\"name\":\"Toei Animation\",\"notched\":false,\"offsetgroup\":\"Toei Animation\",\"orientation\":\"v\",\"showlegend\":true,\"x\":[\"Toei Animation\",\"Toei Animation\",\"Toei Animation\",\"Toei Animation\",\"Toei Animation\",\"Toei Animation\",\"Toei Animation\"],\"x0\":\" \",\"xaxis\":\"x\",\"y\":[197.0,282.0,492.0,383.0,58.0,117.0,12.0],\"y0\":\" \",\"yaxis\":\"y\",\"type\":\"box\"},{\"alignmentgroup\":\"True\",\"hovertemplate\":\"Animation Studio Name=%{x}\\u003cbr\\u003eNumber of Episodes=%{y}\\u003cextra\\u003e\\u003c\\u002fextra\\u003e\",\"legendgroup\":\"Wit Studio\",\"marker\":{\"color\":\"#636efa\"},\"name\":\"Wit Studio\",\"notched\":false,\"offsetgroup\":\"Wit Studio\",\"orientation\":\"v\",\"showlegend\":true,\"x\":[\"Wit Studio\",\"Wit Studio\",\"Wit Studio\",\"Wit Studio\",\"Wit Studio\",\"Wit Studio\",\"Wit Studio\"],\"x0\":\" \",\"xaxis\":\"x\",\"y\":[353.0,112.0,376.0,155.0,69.0,404.0,107.0],\"y0\":\" \",\"yaxis\":\"y\",\"type\":\"box\"}],                        {\"template\":{\"data\":{\"histogram2dcontour\":[{\"type\":\"histogram2dcontour\",\"colorbar\":{\"outlinewidth\":0,\"ticks\":\"\"},\"colorscale\":[[0.0,\"#0d0887\"],[0.1111111111111111,\"#46039f\"],[0.2222222222222222,\"#7201a8\"],[0.3333333333333333,\"#9c179e\"],[0.4444444444444444,\"#bd3786\"],[0.5555555555555556,\"#d8576b\"],[0.6666666666666666,\"#ed7953\"],[0.7777777777777778,\"#fb9f3a\"],[0.8888888888888888,\"#fdca26\"],[1.0,\"#f0f921\"]]}],\"choropleth\":[{\"type\":\"choropleth\",\"colorbar\":{\"outlinewidth\":0,\"ticks\":\"\"}}],\"histogram2d\":[{\"type\":\"histogram2d\",\"colorbar\":{\"outlinewidth\":0,\"ticks\":\"\"},\"colorscale\":[[0.0,\"#0d0887\"],[0.1111111111111111,\"#46039f\"],[0.2222222222222222,\"#7201a8\"],[0.3333333333333333,\"#9c179e\"],[0.4444444444444444,\"#bd3786\"],[0.5555555555555556,\"#d8576b\"],[0.6666666666666666,\"#ed7953\"],[0.7777777777777778,\"#fb9f3a\"],[0.8888888888888888,\"#fdca26\"],[1.0,\"#f0f921\"]]}],\"heatmap\":[{\"type\":\"heatmap\",\"colorbar\":{\"outlinewidth\":0,\"ticks\":\"\"},\"colorscale\":[[0.0,\"#0d0887\"],[0.1111111111111111,\"#46039f\"],[0.2222222222222222,\"#7201a8\"],[0.3333333333333333,\"#9c179e\"],[0.4444444444444444,\"#bd3786\"],[0.5555555555555556,\"#d8576b\"],[0.6666666666666666,\"#ed7953\"],[0.7777777777777778,\"#fb9f3a\"],[0.8888888888888888,\"#fdca26\"],[1.0,\"#f0f921\"]]}],\"heatmapgl\":[{\"type\":\"heatmapgl\",\"colorbar\":{\"outlinewidth\":0,\"ticks\":\"\"},\"colorscale\":[[0.0,\"#0d0887\"],[0.1111111111111111,\"#46039f\"],[0.2222222222222222,\"#7201a8\"],[0.3333333333333333,\"#9c179e\"],[0.4444444444444444,\"#bd3786\"],[0.5555555555555556,\"#d8576b\"],[0.6666666666666666,\"#ed7953\"],[0.7777777777777778,\"#fb9f3a\"],[0.8888888888888888,\"#fdca26\"],[1.0,\"#f0f921\"]]}],\"contourcarpet\":[{\"type\":\"contourcarpet\",\"colorbar\":{\"outlinewidth\":0,\"ticks\":\"\"}}],\"contour\":[{\"type\":\"contour\",\"colorbar\":{\"outlinewidth\":0,\"ticks\":\"\"},\"colorscale\":[[0.0,\"#0d0887\"],[0.1111111111111111,\"#46039f\"],[0.2222222222222222,\"#7201a8\"],[0.3333333333333333,\"#9c179e\"],[0.4444444444444444,\"#bd3786\"],[0.5555555555555556,\"#d8576b\"],[0.6666666666666666,\"#ed7953\"],[0.7777777777777778,\"#fb9f3a\"],[0.8888888888888888,\"#fdca26\"],[1.0,\"#f0f921\"]]}],\"surface\":[{\"type\":\"surface\",\"colorbar\":{\"outlinewidth\":0,\"ticks\":\"\"},\"colorscale\":[[0.0,\"#0d0887\"],[0.1111111111111111,\"#46039f\"],[0.2222222222222222,\"#7201a8\"],[0.3333333333333333,\"#9c179e\"],[0.4444444444444444,\"#bd3786\"],[0.5555555555555556,\"#d8576b\"],[0.6666666666666666,\"#ed7953\"],[0.7777777777777778,\"#fb9f3a\"],[0.8888888888888888,\"#fdca26\"],[1.0,\"#f0f921\"]]}],\"mesh3d\":[{\"type\":\"mesh3d\",\"colorbar\":{\"outlinewidth\":0,\"ticks\":\"\"}}],\"scatter\":[{\"fillpattern\":{\"fillmode\":\"overlay\",\"size\":10,\"solidity\":0.2},\"type\":\"scatter\"}],\"parcoords\":[{\"type\":\"parcoords\",\"line\":{\"colorbar\":{\"outlinewidth\":0,\"ticks\":\"\"}}}],\"scatterpolargl\":[{\"type\":\"scatterpolargl\",\"marker\":{\"colorbar\":{\"outlinewidth\":0,\"ticks\":\"\"}}}],\"bar\":[{\"error_x\":{\"color\":\"#2a3f5f\"},\"error_y\":{\"color\":\"#2a3f5f\"},\"marker\":{\"line\":{\"color\":\"#E5ECF6\",\"width\":0.5},\"pattern\":{\"fillmode\":\"overlay\",\"size\":10,\"solidity\":0.2}},\"type\":\"bar\"}],\"scattergeo\":[{\"type\":\"scattergeo\",\"marker\":{\"colorbar\":{\"outlinewidth\":0,\"ticks\":\"\"}}}],\"scatterpolar\":[{\"type\":\"scatterpolar\",\"marker\":{\"colorbar\":{\"outlinewidth\":0,\"ticks\":\"\"}}}],\"histogram\":[{\"marker\":{\"pattern\":{\"fillmode\":\"overlay\",\"size\":10,\"solidity\":0.2}},\"type\":\"histogram\"}],\"scattergl\":[{\"type\":\"scattergl\",\"marker\":{\"colorbar\":{\"outlinewidth\":0,\"ticks\":\"\"}}}],\"scatter3d\":[{\"type\":\"scatter3d\",\"line\":{\"colorbar\":{\"outlinewidth\":0,\"ticks\":\"\"}},\"marker\":{\"colorbar\":{\"outlinewidth\":0,\"ticks\":\"\"}}}],\"scattermapbox\":[{\"type\":\"scattermapbox\",\"marker\":{\"colorbar\":{\"outlinewidth\":0,\"ticks\":\"\"}}}],\"scatterternary\":[{\"type\":\"scatterternary\",\"marker\":{\"colorbar\":{\"outlinewidth\":0,\"ticks\":\"\"}}}],\"scattercarpet\":[{\"type\":\"scattercarpet\",\"marker\":{\"colorbar\":{\"outlinewidth\":0,\"ticks\":\"\"}}}],\"carpet\":[{\"aaxis\":{\"endlinecolor\":\"#2a3f5f\",\"gridcolor\":\"white\",\"linecolor\":\"white\",\"minorgridcolor\":\"white\",\"startlinecolor\":\"#2a3f5f\"},\"baxis\":{\"endlinecolor\":\"#2a3f5f\",\"gridcolor\":\"white\",\"linecolor\":\"white\",\"minorgridcolor\":\"white\",\"startlinecolor\":\"#2a3f5f\"},\"type\":\"carpet\"}],\"table\":[{\"cells\":{\"fill\":{\"color\":\"#EBF0F8\"},\"line\":{\"color\":\"white\"}},\"header\":{\"fill\":{\"color\":\"#C8D4E3\"},\"line\":{\"color\":\"white\"}},\"type\":\"table\"}],\"barpolar\":[{\"marker\":{\"line\":{\"color\":\"#E5ECF6\",\"width\":0.5},\"pattern\":{\"fillmode\":\"overlay\",\"size\":10,\"solidity\":0.2}},\"type\":\"barpolar\"}],\"pie\":[{\"automargin\":true,\"type\":\"pie\"}]},\"layout\":{\"autotypenumbers\":\"strict\",\"colorway\":[\"#636efa\",\"#EF553B\",\"#00cc96\",\"#ab63fa\",\"#FFA15A\",\"#19d3f3\",\"#FF6692\",\"#B6E880\",\"#FF97FF\",\"#FECB52\"],\"font\":{\"color\":\"#2a3f5f\"},\"hovermode\":\"closest\",\"hoverlabel\":{\"align\":\"left\"},\"paper_bgcolor\":\"white\",\"plot_bgcolor\":\"#E5ECF6\",\"polar\":{\"bgcolor\":\"#E5ECF6\",\"angularaxis\":{\"gridcolor\":\"white\",\"linecolor\":\"white\",\"ticks\":\"\"},\"radialaxis\":{\"gridcolor\":\"white\",\"linecolor\":\"white\",\"ticks\":\"\"}},\"ternary\":{\"bgcolor\":\"#E5ECF6\",\"aaxis\":{\"gridcolor\":\"white\",\"linecolor\":\"white\",\"ticks\":\"\"},\"baxis\":{\"gridcolor\":\"white\",\"linecolor\":\"white\",\"ticks\":\"\"},\"caxis\":{\"gridcolor\":\"white\",\"linecolor\":\"white\",\"ticks\":\"\"}},\"coloraxis\":{\"colorbar\":{\"outlinewidth\":0,\"ticks\":\"\"}},\"colorscale\":{\"sequential\":[[0.0,\"#0d0887\"],[0.1111111111111111,\"#46039f\"],[0.2222222222222222,\"#7201a8\"],[0.3333333333333333,\"#9c179e\"],[0.4444444444444444,\"#bd3786\"],[0.5555555555555556,\"#d8576b\"],[0.6666666666666666,\"#ed7953\"],[0.7777777777777778,\"#fb9f3a\"],[0.8888888888888888,\"#fdca26\"],[1.0,\"#f0f921\"]],\"sequentialminus\":[[0.0,\"#0d0887\"],[0.1111111111111111,\"#46039f\"],[0.2222222222222222,\"#7201a8\"],[0.3333333333333333,\"#9c179e\"],[0.4444444444444444,\"#bd3786\"],[0.5555555555555556,\"#d8576b\"],[0.6666666666666666,\"#ed7953\"],[0.7777777777777778,\"#fb9f3a\"],[0.8888888888888888,\"#fdca26\"],[1.0,\"#f0f921\"]],\"diverging\":[[0,\"#8e0152\"],[0.1,\"#c51b7d\"],[0.2,\"#de77ae\"],[0.3,\"#f1b6da\"],[0.4,\"#fde0ef\"],[0.5,\"#f7f7f7\"],[0.6,\"#e6f5d0\"],[0.7,\"#b8e186\"],[0.8,\"#7fbc41\"],[0.9,\"#4d9221\"],[1,\"#276419\"]]},\"xaxis\":{\"gridcolor\":\"white\",\"linecolor\":\"white\",\"ticks\":\"\",\"title\":{\"standoff\":15},\"zerolinecolor\":\"white\",\"automargin\":true,\"zerolinewidth\":2},\"yaxis\":{\"gridcolor\":\"white\",\"linecolor\":\"white\",\"ticks\":\"\",\"title\":{\"standoff\":15},\"zerolinecolor\":\"white\",\"automargin\":true,\"zerolinewidth\":2},\"scene\":{\"xaxis\":{\"backgroundcolor\":\"#E5ECF6\",\"gridcolor\":\"white\",\"linecolor\":\"white\",\"showbackground\":true,\"ticks\":\"\",\"zerolinecolor\":\"white\",\"gridwidth\":2},\"yaxis\":{\"backgroundcolor\":\"#E5ECF6\",\"gridcolor\":\"white\",\"linecolor\":\"white\",\"showbackground\":true,\"ticks\":\"\",\"zerolinecolor\":\"white\",\"gridwidth\":2},\"zaxis\":{\"backgroundcolor\":\"#E5ECF6\",\"gridcolor\":\"white\",\"linecolor\":\"white\",\"showbackground\":true,\"ticks\":\"\",\"zerolinecolor\":\"white\",\"gridwidth\":2}},\"shapedefaults\":{\"line\":{\"color\":\"#2a3f5f\"}},\"annotationdefaults\":{\"arrowcolor\":\"#2a3f5f\",\"arrowhead\":0,\"arrowwidth\":1},\"geo\":{\"bgcolor\":\"white\",\"landcolor\":\"#E5ECF6\",\"subunitcolor\":\"white\",\"showland\":true,\"showlakes\":true,\"lakecolor\":\"white\"},\"title\":{\"x\":0.05},\"mapbox\":{\"style\":\"light\"}}},\"xaxis\":{\"anchor\":\"y\",\"domain\":[0.0,1.0],\"title\":{\"text\":\"Animation Studio Name\"},\"categoryorder\":\"array\",\"categoryarray\":[\"Ufotable\",\"MAPPA\",\"A-1 Pictures\",\"Madhouse\",null,\"Pierrot\",\"Trigger\",\"Bones\",\"Studio Ghibli\",\"Toei Animation\",\"Wit Studio\"]},\"yaxis\":{\"anchor\":\"x\",\"domain\":[0.0,1.0],\"title\":{\"text\":\"Number of Episodes\"}},\"legend\":{\"title\":{\"text\":\"Animation Studio Name\"},\"tracegroupgap\":0},\"title\":{\"text\":\"Number of Episodes by Animation Studio\",\"x\":0.5},\"boxmode\":\"overlay\",\"plot_bgcolor\":\"white\",\"showlegend\":false,\"shapes\":[{\"line\":{\"color\":\"red\"},\"type\":\"line\",\"x0\":-0.5,\"x1\":11,\"y0\":300,\"y1\":300}]},                        {\"responsive\": true}                    ).then(function(){\n",
       "                            \n",
       "var gd = document.getElementById('ff8ba176-0ccb-4cbd-a4db-77903ec830f3');\n",
       "var x = new MutationObserver(function (mutations, observer) {{\n",
       "        var display = window.getComputedStyle(gd).display;\n",
       "        if (!display || display === 'none') {{\n",
       "            console.log([gd, 'removed!']);\n",
       "            Plotly.purge(gd);\n",
       "            observer.disconnect();\n",
       "        }}\n",
       "}});\n",
       "\n",
       "// Listen for the removal of the full notebook cells\n",
       "var notebookContainer = gd.closest('#notebook-container');\n",
       "if (notebookContainer) {{\n",
       "    x.observe(notebookContainer, {childList: true});\n",
       "}}\n",
       "\n",
       "// Listen for the clearing of the current output cell\n",
       "var outputEl = gd.closest('.output');\n",
       "if (outputEl) {{\n",
       "    x.observe(outputEl, {childList: true});\n",
       "}}\n",
       "\n",
       "                        })                };                });            </script>        </div>"
      ]
     },
     "metadata": {},
     "output_type": "display_data"
    }
   ],
   "source": [
    "#Put your code here\n",
    "\n",
    "#found these here https://plotly.com/python/plotly-express/\n",
    "\n",
    "import plotly.express as px\n",
    "import plotly.graph_objects as go\n",
    "\n",
    "\n",
    "graph = px.box(\n",
    "    anime_data_cleaned, \n",
    "    x= \"Animation Studio Name\", \n",
    "    y=\"Number of Episodes\", \n",
    "    title=\"Number of Episodes by Animation Studio\",\n",
    "    color=\"Animation Studio Name\", \n",
    ")\n",
    "\n",
    "graph.update_layout(\n",
    "    #the challenge part that was optionsal\n",
    "    title_x=0.5,  \n",
    "    plot_bgcolor=\"white\",  \n",
    "    showlegend=False  \n",
    ")\n",
    "\n",
    "graph.add_shape(\n",
    "    go.layout.Shape(\n",
    "        type= \"line\",\n",
    "        x0=-0.5, x1=len(anime_data_cleaned[\"Animation Studio Name\"].unique()), \n",
    "        y0=300, y1=300,\n",
    "        line=dict(color=\"red\")\n",
    "    )\n",
    ")\n",
    "\n",
    "graph.show()\n",
    "\n"
   ]
  },
  {
   "cell_type": "markdown",
   "id": "f73653ac",
   "metadata": {},
   "source": [
    "&#9989; **Question 3.6 (2 points)**: Looking at the above output, answer the following questions: \n",
    "\n",
    "1. Which studio has the lowest median value for episodes to watch?\n",
    "2. Which studios have a median number of episodes over 300?\n"
   ]
  },
  {
   "cell_type": "markdown",
   "id": "3504aa6e",
   "metadata": {
    "question_id": "P2Q3",
    "tags": [
     "student_answer"
    ]
   },
   "source": [
    "**<font size=+3>&#9998;</font>\n",
    "\n",
    "1) Bones at 133\n",
    "2) Ufotable is at 300, but A-1 Pictures,Madhouse, Pierrot, Trigger are over 300\n"
   ]
  },
  {
   "cell_type": "markdown",
   "id": "d272b234",
   "metadata": {},
   "source": [
    "---\n",
    "### &#128721; STOP\n",
    "**Pause to commit your changes to your Git repository! (1 point)**\n",
    "\n",
    "Take a moment to save your notebook, commit the changes to your Git repository using the commit message \"**Committing Part 3**\", and push the changes to GitHub."
   ]
  },
  {
   "cell_type": "markdown",
   "id": "d59e4ea7",
   "metadata": {},
   "source": [
    "![keepgoing](https://media.giphy.com/media/XcAa52ejGuNqdb5SFQ/giphy.gif?cid=790b761114d73fop8879b63i6lpgjulam3sgmg7gib5vksnd&ep=v1_gifs_search&rid=giphy.gif&ct=g)"
   ]
  },
  {
   "cell_type": "markdown",
   "id": "e0e87d61",
   "metadata": {},
   "source": [
    "---\n",
    "<a id=\"part-4-object-oriented-programming-38-points\"></a>\n",
    "\n",
    "# Part 4: Object-Oriented Programming (38 points)\n",
    "\n",
    "[Back to Table of Contents](#Table-of-Contents)\n"
   ]
  },
  {
   "cell_type": "markdown",
   "id": "97cead65",
   "metadata": {},
   "source": [
    "&#9989; **Question 4.1 (9 points)**: The following cell contains a draft of a class called `Refrigerator` with only the `__init__` constructor. Complete the `__init__` constructor so that it:\n",
    "\n",
    "- Takes in these arguments: `size`,`color`,`location`,`temperature`, and `plugged_in` with default values on `temperature` and `plugged_in`. These arguments correspond to attributes of the same name. \n",
    "\n",
    "- The default value of `plugged_in`should be set to `True`. The default value of `temperature` should be set to an appropriate temperature of a frigerator that is on. \n"
   ]
  },
  {
   "cell_type": "code",
   "execution_count": 1,
   "id": "e8bb368c",
   "metadata": {
    "question_id": "P3Q8",
    "tags": [
     "student_answer"
    ]
   },
   "outputs": [
    {
     "ename": "SyntaxError",
     "evalue": "invalid syntax (1267051159.py, line 22)",
     "output_type": "error",
     "traceback": [
      "\u001b[0;36m  Cell \u001b[0;32mIn[1], line 22\u001b[0;36m\u001b[0m\n\u001b[0;31m    def __init__(self,size,color,location,temperature=??,plugged_in = ??):\u001b[0m\n\u001b[0m                                                      ^\u001b[0m\n\u001b[0;31mSyntaxError\u001b[0m\u001b[0;31m:\u001b[0m invalid syntax\n"
     ]
    }
   ],
   "source": [
    "#Finish this code by adding to it and comleting it! Change any places with a ??. \n",
    "#do not worry about temp_convert for now\n",
    "class Refrigerator:\n",
    "    \"\"\"Base class for refrigerators. \n",
    "    \n",
    "    Attributes\n",
    "    ----------\n",
    "    size : str\n",
    "        The size of the refrigerator. Can be 'full size' or 'mini'.\n",
    "    \n",
    "    color : str\n",
    "        The color of the refrigerator. \n",
    "    \n",
    "    location : str\n",
    "        The location of the refrigerator. Could be 'kitchen', 'basement', 'garage' etc..\n",
    "    \n",
    "    temperature : float\n",
    "        The temperature of the refrigerator. By default should be temperature of a refrigerator that is on.\n",
    "    \n",
    "    plugged_in : boolean\n",
    "        If the ferigerator is plugged in or not. By default set to 'True' meaning it is plugged in and on.\n",
    "    \"\"\"\n",
    "    def __init__(self,size,color,location,temperature=??,plugged_in = ??): \n",
    "        \"\"\"Initialize the refrigerator with its attributes \n",
    "        and set the initial temperature and plugged_in.\n",
    "        \n",
    "        Input Parameter\n",
    "        ---------------\n",
    "        size : str\n",
    "            The size of the refrigerator. Can be 'full size' or 'mini'.\n",
    "        \n",
    "        color : str\n",
    "            The color of the refrigerator. \n",
    "    \n",
    "        location : str\n",
    "            The location of the refrigerator. Could be 'kitchen', 'basement', 'garage' etc..\n",
    "        \n",
    "        Default Parameter\n",
    "        -----------------\n",
    "        temperature : float\n",
    "            The temperature of the refrigerator. By default should be temperature of a refrigerator that is on.\n",
    "    \n",
    "        plugged_in : boolean\n",
    "            If the ferigerator is plugged in or not. By default set to 'True' meaning it is plugged in and on.\"\"\"\n",
    "        \n",
    "        # Put your code here\n",
    "        \n",
    "        self.size = ??\n",
    "        self.color = ??\n",
    "        self.location = ??\n",
    "        self.temperature = ??\n",
    "        self.plugged_in = ??\n",
    "        \n",
    "    def temp_convert(self,current_temp_unit,new_temp_unit):\n",
    "        \"\"\"Filler Doc String to be completed later\n",
    "        \n",
    "        Input Parameter\n",
    "        ---------------\n",
    "        current_temp_unit : ??\n",
    "            ??\n",
    "        \n",
    "        new_temp_unit : ??\n",
    "            ??\n",
    "            \"\"\"\n"
   ]
  },
  {
   "cell_type": "markdown",
   "id": "8ea7bbcf",
   "metadata": {},
   "source": [
    "## Test your code\n",
    "\n",
    "Let's check that the code works. Run the following cells. If an error is returned, go back and debug your code."
   ]
  },
  {
   "cell_type": "code",
   "execution_count": 3,
   "id": "b0155fe2",
   "metadata": {
    "question_id": "P3Q8",
    "tags": [
     "student_answer"
    ]
   },
   "outputs": [
    {
     "name": "stdout",
     "output_type": "stream",
     "text": [
      "full\n"
     ]
    },
    {
     "data": {
      "text/plain": [
       "36.0"
      ]
     },
     "execution_count": 3,
     "metadata": {},
     "output_type": "execute_result"
    }
   ],
   "source": [
    "fridge = Refrigerator(color = \"silver\", location = 'kitchen', size = \"full\")\n",
    "\n",
    "print(fridge.size)\n",
    "fridge.temperature"
   ]
  },
  {
   "cell_type": "markdown",
   "id": "1898d751",
   "metadata": {},
   "source": [
    "&#9989; **Question 4.1.2 (1 point):** Oh no! We did not specify our unit of temperature when creating this class. Go back to your `Refrigerator` class and update your doc string to include information detailing which unit of temperature your `Refrigerator` class defaults to. After you have updated your doc string, paste your text that you added into the cell below.\n",
    "\n"
   ]
  },
  {
   "cell_type": "markdown",
   "id": "fc968cc2",
   "metadata": {},
   "source": [
    "Paste your added doc string text here"
   ]
  },
  {
   "cell_type": "markdown",
   "id": "84dfc2e7",
   "metadata": {},
   "source": [
    "&#9989; **Question 4.1.3 (5 points):** Now go back and add an additional attribute to your `Refrigerator` class inside of your `__init__` constructor called `temp_unit` that specifies your default temperature unit as a string. ('Celcius', 'Fahrenheight', or 'Kelvin'). make sure you update your doc string to reflect this change as well."
   ]
  },
  {
   "cell_type": "code",
   "execution_count": null,
   "id": "5d091bff",
   "metadata": {},
   "outputs": [],
   "source": [
    "#paste your updated Refrigerator class code here"
   ]
  },
  {
   "cell_type": "markdown",
   "id": "54fa1889",
   "metadata": {},
   "source": [
    "## Test your code\n",
    "\n",
    "Let's check that the code works. Run the following cells. If an error is returned or it is not the expected output, go back to your code and debug it!"
   ]
  },
  {
   "cell_type": "code",
   "execution_count": 5,
   "id": "acb8fa7d",
   "metadata": {},
   "outputs": [
    {
     "data": {
      "text/plain": [
       "'Fahrenheight'"
      ]
     },
     "execution_count": 5,
     "metadata": {},
     "output_type": "execute_result"
    }
   ],
   "source": [
    "fridge = Refrigerator(color = \"silver\", location = 'kitchen', size = \"full\")\n",
    "fridge.temp_unit"
   ]
  },
  {
   "cell_type": "markdown",
   "id": "42e509f8",
   "metadata": {},
   "source": [
    "---\n",
    "&#9989; **Question 4.2 (20 points)**: Now let's work on a method in our `Refrigerator` class that focuses on the temperature. Modify the method in the Refrigerator class called `temp_convert` so that it takes the temperature attribute and converts it to a different temperature unit (either Celsius, Fahrenheight, or Kelvin).  \n",
    "\n",
    "- This `temp_convert` method should have two input parameters, as strings. The first string paremeter will be the current tempeature unit of the refrigerator, while the second string paremeter will be the temperature unit to be converted to. \n",
    "\n",
    "- This `temp_convert` method should be able to convert from any starting temperature unit to another. \n",
    "\n",
    "- `temp_convert` should update the float value of the `temperature` attribute and the string value of the `temp_unit` as well. \n",
    "\n",
    "- `temp_convert` needs its doc string to be updated as well. Make sure you update the filler doc string to reflect what the method does/accomplishes along with information on the input parameters (what their data type is and what the data is).\n",
    "\n",
    "- **OPTIONAL** Can you include an output that says 'successful conversion' if both the `temperature` and `temp_unit` are changed, and an output that says 'unsuccessful conversion: either unit of temperature did not change from original, or unit of temperature does not exist (maybe check your spelling)' if both the `temperature` and `temp_unit` are not changed.\n",
    "        "
   ]
  },
  {
   "cell_type": "code",
   "execution_count": null,
   "id": "0fd92830",
   "metadata": {
    "question_id": "P3Q8",
    "tags": [
     "student_answer"
    ]
   },
   "outputs": [],
   "source": [
    "#Copy your Refrigerator class here and then add/modify the `temp_convert` method. "
   ]
  },
  {
   "cell_type": "markdown",
   "id": "f9a56d88",
   "metadata": {},
   "source": [
    "## Test your code\n",
    "\n",
    "Let's check that the code works. Run the following cell. If an error is returned or it is not the expected output, go back and debug your code!"
   ]
  },
  {
   "cell_type": "code",
   "execution_count": 56,
   "id": "aead8b37",
   "metadata": {
    "question_id": "P3Q8",
    "tags": [
     "student_answer"
    ]
   },
   "outputs": [
    {
     "name": "stdout",
     "output_type": "stream",
     "text": [
      "Fahrenheight\n",
      "36.0\n",
      "Celsius\n",
      "2.2222222222222223\n",
      "Kelvin\n",
      "275.3722222222222\n",
      "Fahrenheight\n",
      "36.000000000000014\n",
      "Kelvin\n",
      "275.3722222222222\n",
      "Celsius\n",
      "2.2222222222222285\n",
      "Fahrenheight\n",
      "36.000000000000014\n",
      "Celsius\n",
      "2.2222222222222303\n"
     ]
    }
   ],
   "source": [
    "# \n",
    "\n",
    "new_fridge = Refrigerator(color = \"silver\", location = 'kitchen', size = \"full\")\n",
    "print(new_fridge.temp_unit)\n",
    "print(new_fridge.temperature)\n",
    "\n",
    "new_fridge.temp_convert(new_fridge.temp_unit,\"Celsius\")\n",
    "print(new_fridge.temp_unit)\n",
    "print(new_fridge.temperature)\n",
    "\n",
    "new_fridge.temp_convert(new_fridge.temp_unit,\"Kelvin\")\n",
    "print(new_fridge.temp_unit)\n",
    "print(new_fridge.temperature)\n",
    "\n",
    "new_fridge.temp_convert(new_fridge.temp_unit,\"Fahrenheight\")\n",
    "print(new_fridge.temp_unit)\n",
    "print(new_fridge.temperature)\n",
    "\n",
    "new_fridge.temp_convert(new_fridge.temp_unit,\"Kelvin\")\n",
    "print(new_fridge.temp_unit)\n",
    "print(new_fridge.temperature)\n",
    "\n",
    "new_fridge.temp_convert(new_fridge.temp_unit,\"Celsius\")\n",
    "print(new_fridge.temp_unit)\n",
    "print(new_fridge.temperature)\n",
    "\n",
    "new_fridge.temp_convert(new_fridge.temp_unit,\"Fahrenheight\")\n",
    "print(new_fridge.temp_unit)\n",
    "print(new_fridge.temperature)\n",
    "\n",
    "new_fridge.temp_convert(new_fridge.temp_unit,\"Celsius\")\n",
    "print(new_fridge.temp_unit)\n",
    "print(new_fridge.temperature)"
   ]
  },
  {
   "cell_type": "markdown",
   "id": "3e0cab0c",
   "metadata": {},
   "source": [
    "&#9989; **Question 4.3 (2 points):** How does your temperature attribute look when it is printed? Are there too many decimal places? How might you fix this? Either go back and update your code to make this fix or explain how you would make this fix in words. "
   ]
  },
  {
   "cell_type": "markdown",
   "id": "5772c1f0",
   "metadata": {},
   "source": [
    "**put your answer here**"
   ]
  },
  {
   "cell_type": "markdown",
   "id": "59ddbb0c",
   "metadata": {},
   "source": [
    "---\n",
    "### &#128721; STOP\n",
    "**Pause to commit your changes to your Git repository! (1 point)**\n",
    "\n",
    "Take a moment to save your notebook, commit the changes to your Git repository using the commit message \"**Committing Part 4**\", and push the changes to GitHub.\n",
    "\n",
    "---"
   ]
  },
  {
   "cell_type": "markdown",
   "id": "5f544d19",
   "metadata": {},
   "source": [
    "---\n",
    "<a id=\"part-5-conclusion-3-points\"></a>\n",
    "\n",
    "# Part 5. Conclusion (3 points)\n",
    "\n",
    "[Back to Table of Contents](#Table-of-Contents)\n",
    "\n",
    "Make sure all of your changes to your repository are committed and pushed to GitHub. \n",
    "Before you leave\n",
    "\n",
    "1. Commit changes to your **local** `git` repository (1 point)\n",
    "\n",
    "2. Push the changes to your GitHub repository (1 point)\n",
    "\n",
    "3. Upload your notebook to D2L in case something went wrong with your repository or if you couldn't get the repository to work.  (1 point)"
   ]
  },
  {
   "cell_type": "markdown",
   "id": "24532561",
   "metadata": {},
   "source": [
    "Also, please take this mid-semester evaluation survey so I might try and correct my teaching for the rest of the term! https://forms.office.com/r/Ev2vGcz4Qq"
   ]
  },
  {
   "cell_type": "markdown",
   "id": "13e2870e",
   "metadata": {},
   "source": [
    "## You're done! Congrats on finishing your CMSE 202 Midterm! \n",
    "\n",
    "![Moira2](https://media.giphy.com/media/d1E2HnwywoTkES08/giphy.gif)"
   ]
  }
 ],
 "metadata": {
  "kernelspec": {
   "display_name": "Python 3 (ipykernel)",
   "language": "python",
   "name": "python3"
  },
  "language_info": {
   "codemirror_mode": {
    "name": "ipython",
    "version": 3
   },
   "file_extension": ".py",
   "mimetype": "text/x-python",
   "name": "python",
   "nbconvert_exporter": "python",
   "pygments_lexer": "ipython3",
   "version": "3.12.2"
  },
  "widgets": {
   "application/vnd.jupyter.widget-state+json": {
    "state": {},
    "version_major": 2,
    "version_minor": 0
   }
  }
 },
 "nbformat": 4,
 "nbformat_minor": 5
}
